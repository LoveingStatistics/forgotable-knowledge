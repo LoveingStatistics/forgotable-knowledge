{
 "cells": [
  {
   "cell_type": "markdown",
   "metadata": {},
   "source": [
    "# 线性回归"
   ]
  },
  {
   "cell_type": "code",
   "execution_count": 1,
   "metadata": {},
   "outputs": [],
   "source": [
    "import numpy as np\n",
    "##定义损失函数\n",
    "def cost_function(x,y,w,b):\n",
    "    num_train = x.shape[0]\n",
    "    num_feature = x.shape[1]   \n",
    "    y_hat = np.dot(x, w) + b  # 模型公式\n",
    "    loss = np.sum((y_hat-y)**2) /num_train  # 损失函数\n",
    "    dw = np.dot(x.T, (y_hat - y)) /num_train\n",
    "    db = np.sum((y_hat - y)) /num_train  # 两个参数的偏导数\n",
    "    return y_hat, loss, dw, db\n",
    "##定义初始化参数的函数\n",
    "def initialize_params(dims):\n",
    "    w = np.zeros((dims, 1))\n",
    "    b = 0\n",
    "    return w, b\n",
    "##定义梯度下降算法,epochs指迭代次数\n",
    "def gradient_descent(x, y, learning_rate, epochs):\n",
    "    w, b = initialize_params(x.shape[1])\n",
    "    loss_list = []  # 记录损失函数值\n",
    "    for i in range(1, epochs):\n",
    "        y_hat, loss, dw, db = cost_function(x, y, w, b)  # 计算当前的损失函数，以及偏导数\n",
    "        loss_list.append(loss)  #记录损失函数值\n",
    "        w += -learning_rate * dw\n",
    "        b += -learning_rate * db  # 开始迭代\n",
    "        if i % 10000 == 0:\n",
    "            print(\"epochs %d loss %f\" % (i, loss))  # 字符串的格式化输出，%d表示整数;%f表示浮点数\n",
    "        params = {\n",
    "            \"w\": w,\n",
    "            \"b\": b\n",
    "        }  # 保存参数\n",
    "        grads = {\n",
    "            \"dw\" : dw,\n",
    "            \"db\" : db\n",
    "        } # 保存梯度\n",
    "    return loss_list, loss, params, grads\n",
    "        "
   ]
  },
  {
   "cell_type": "code",
   "execution_count": null,
   "metadata": {},
   "outputs": [],
   "source": []
  }
 ],
 "metadata": {
  "kernelspec": {
   "display_name": "Python 3",
   "language": "python",
   "name": "python3"
  },
  "language_info": {
   "codemirror_mode": {
    "name": "ipython",
    "version": 3
   },
   "file_extension": ".py",
   "mimetype": "text/x-python",
   "name": "python",
   "nbconvert_exporter": "python",
   "pygments_lexer": "ipython3",
   "version": "3.6.5"
  }
 },
 "nbformat": 4,
 "nbformat_minor": 2
}
