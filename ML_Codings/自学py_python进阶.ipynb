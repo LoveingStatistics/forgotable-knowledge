{
 "cells": [
  {
   "cell_type": "markdown",
   "metadata": {},
   "source": [
    "# 一、函数进阶"
   ]
  },
  {
   "cell_type": "code",
   "execution_count": 1,
   "metadata": {},
   "outputs": [
    {
     "data": {
      "text/plain": [
       "[5]"
      ]
     },
     "execution_count": 1,
     "metadata": {},
     "output_type": "execute_result"
    }
   ],
   "source": [
    "def f(x = []):\n",
    "    x.append(5)\n",
    "    return x\n",
    "f()"
   ]
  },
  {
   "cell_type": "code",
   "execution_count": 2,
   "metadata": {},
   "outputs": [
    {
     "data": {
      "text/plain": [
       "[5, 5]"
      ]
     },
     "execution_count": 2,
     "metadata": {},
     "output_type": "execute_result"
    }
   ],
   "source": [
    "f()  #直觉上应该返回列表[5],由于默认参数始终使用同一个列表，每次调用默认参数时，函数中的append方法改变了这个列表，因此这个列表会随之改变"
   ]
  },
  {
   "cell_type": "markdown",
   "metadata": {},
   "source": [
    "## 1.高阶函数"
   ]
  },
  {
   "cell_type": "markdown",
   "metadata": {},
   "source": [
    "### 1.函数的对象性"
   ]
  },
  {
   "cell_type": "code",
   "execution_count": 2,
   "metadata": {
    "scrolled": true
   },
   "outputs": [
    {
     "data": {
      "text/plain": [
       "<function __main__.square(x)>"
      ]
     },
     "execution_count": 2,
     "metadata": {},
     "output_type": "execute_result"
    }
   ],
   "source": [
    "##函数可以作为一种基本类型的对象\n",
    "##所以函数可以作为一个参数传给另一个参数；将函数作为字典的值；将函数作为另一个函数的返回值\n",
    "def square(x):\n",
    "    return(x**2)\n",
    "d = {\"power5\": square, \"power6\": 5}  #将函数值作为字典的值\n",
    "d[\"power5\"]"
   ]
  },
  {
   "cell_type": "code",
   "execution_count": 3,
   "metadata": {
    "scrolled": true
   },
   "outputs": [
    {
     "data": {
      "text/plain": [
       "25"
      ]
     },
     "execution_count": 3,
     "metadata": {},
     "output_type": "execute_result"
    }
   ],
   "source": [
    "d[\"power5\"](5)"
   ]
  },
  {
   "cell_type": "markdown",
   "metadata": {},
   "source": [
    "### 2.以函数为参数的函数（高阶函数）"
   ]
  },
  {
   "cell_type": "code",
   "execution_count": 5,
   "metadata": {},
   "outputs": [
    {
     "data": {
      "text/plain": [
       "[0, 1, 4, 9, 16]"
      ]
     },
     "execution_count": 5,
     "metadata": {},
     "output_type": "execute_result"
    }
   ],
   "source": [
    "def apply_function(f, sq):\n",
    "    return(f(x) for x in sq)\n",
    "list(apply_function(square, range(5)))  # 将一个函数应用到一个序列的每一个元素中"
   ]
  },
  {
   "cell_type": "code",
   "execution_count": 12,
   "metadata": {
    "scrolled": true
   },
   "outputs": [
    {
     "data": {
      "text/plain": [
       "(0, 1, 4, 9, 16)"
      ]
     },
     "execution_count": 12,
     "metadata": {},
     "output_type": "execute_result"
    }
   ],
   "source": [
    "tuple(map(square, range(5)))  # python自带的map函数就可以实现这个功能"
   ]
  },
  {
   "cell_type": "markdown",
   "metadata": {},
   "source": [
    "### 3.以函数为返回值的函数"
   ]
  },
  {
   "cell_type": "code",
   "execution_count": 13,
   "metadata": {},
   "outputs": [
    {
     "name": "stdout",
     "output_type": "stream",
     "text": [
      "25 125\n"
     ]
    }
   ],
   "source": [
    "def power_func(num):\n",
    "    def func(x):\n",
    "        return (x ** num)\n",
    "    return func\n",
    "#函数中套函数的子函数，返回一个函数\n",
    "square2 = power_func(2)\n",
    "cube2 = power_func(3)\n",
    "print(square2(5), cube2(5))  #很方便的定义次幂函数"
   ]
  },
  {
   "cell_type": "markdown",
   "metadata": {},
   "source": [
    "### 4.固定部分参数的函数（非常好用，py自带）"
   ]
  },
  {
   "cell_type": "code",
   "execution_count": 1,
   "metadata": {},
   "outputs": [
    {
     "data": {
      "text/plain": [
       "16"
      ]
     },
     "execution_count": 1,
     "metadata": {},
     "output_type": "execute_result"
    }
   ],
   "source": [
    "#python中有一个functools模块中的一个partial（）函数，它接收一个函数作为参数，然后返回一个将这个函数一部分参数固定的新函数\n",
    "from functools import partial\n",
    "def power(x, num):\n",
    "    return (x ** num)\n",
    "square3 = partial(power, num=2)\n",
    "square3(4)  #固定次幂参数为2，及此时函数变为了求平方；"
   ]
  },
  {
   "cell_type": "markdown",
   "metadata": {},
   "source": [
    "## 2.函数map（）、filter（）、reduce（）"
   ]
  },
  {
   "cell_type": "code",
   "execution_count": 2,
   "metadata": {},
   "outputs": [
    {
     "data": {
      "text/plain": [
       "[0, 2, 4]"
      ]
     },
     "execution_count": 2,
     "metadata": {},
     "output_type": "execute_result"
    }
   ],
   "source": [
    "##map函数之前已经介绍过了，现在介绍另外一个高级函数：filter()\n",
    "#顾名思义，作用就是筛选,filter(f, sq)作用相当于[x for x in sq if f(x)]\n",
    "def is_even(x):\n",
    "    return (x % 2 == 0)\n",
    "list(filter(is_even, range(6)))"
   ]
  },
  {
   "cell_type": "code",
   "execution_count": 3,
   "metadata": {},
   "outputs": [
    {
     "data": {
      "text/plain": [
       "[0, 4, 16]"
      ]
     },
     "execution_count": 3,
     "metadata": {},
     "output_type": "execute_result"
    }
   ],
   "source": [
    "##两个高级函数还可以叠加使用，效果还不错哦\n",
    "list(map(square3, list(filter(is_even, range(6)))))"
   ]
  },
  {
   "cell_type": "code",
   "execution_count": 4,
   "metadata": {},
   "outputs": [
    {
     "data": {
      "text/plain": [
       "240"
      ]
     },
     "execution_count": 4,
     "metadata": {},
     "output_type": "execute_result"
    }
   ],
   "source": [
    "##另一个好用的高级函数是reduce（），与前两个函数不同的是，reduce函数接收的函数必须是允许二元操作的函数；\n",
    "##可以用来很快的求解序列内的元素和或者阶乘\n",
    "from functools import reduce  #调用函数\n",
    "def multiple(x, y):\n",
    "    return (x * y)\n",
    "reduce(multiple, range(1, 5), 10)  #实现阶乘 ,第三个参数是初始值"
   ]
  },
  {
   "cell_type": "code",
   "execution_count": 5,
   "metadata": {},
   "outputs": [
    {
     "data": {
      "text/plain": [
       "12345"
      ]
     },
     "execution_count": 5,
     "metadata": {},
     "output_type": "execute_result"
    }
   ],
   "source": [
    "reduce(lambda x,y: x*10 + y, range(1, 6))  #如何把序列拼成一个数"
   ]
  },
  {
   "cell_type": "code",
   "execution_count": 6,
   "metadata": {},
   "outputs": [
    {
     "name": "stdout",
     "output_type": "stream",
     "text": [
      "{'male': ['Alan Turing', 'Dennis Ritchie'], 'female': ['Ada Lovelace', 'Frances E. Allen']}\n"
     ]
    }
   ],
   "source": [
    "\"\"\"\n",
    "有更好的方法时，最好不要选择reduce函数，因为当应用函数复杂的时候，代码会变的晦涩难懂\n",
    "比如下面这段代码，把一些科学家的名字按照姓名进行分组\n",
    "\"\"\"\n",
    "from functools import reduce\n",
    "scientists =({'name':'Alan Turing', 'age':105, 'gender':'male'},\n",
    "             {'name':'Dennis Ritchie', 'age':76, 'gender':'male'},\n",
    "             {'name':'Ada Lovelace', 'age':202, 'gender':'female'},\n",
    "             {'name':'Frances E. Allen', 'age':84, 'gender':'female'})\n",
    "def group_by_gender(accumulator , value):\n",
    "    accumulator[value['gender']].append(value['name'])\n",
    "    return accumulator\n",
    "grouped = reduce(group_by_gender, scientists, {'male':[], 'female':[]})\n",
    "print(grouped)"
   ]
  },
  {
   "cell_type": "markdown",
   "metadata": {},
   "source": [
    "## 3.lambda()表达式"
   ]
  },
  {
   "cell_type": "code",
   "execution_count": 7,
   "metadata": {},
   "outputs": [
    {
     "data": {
      "text/plain": [
       "[0, 1, 4, 9, 16]"
      ]
     },
     "execution_count": 7,
     "metadata": {},
     "output_type": "execute_result"
    }
   ],
   "source": [
    "f = (lambda x: x ** 2)\n",
    "list(map(f, range(5)))"
   ]
  },
  {
   "cell_type": "markdown",
   "metadata": {},
   "source": [
    "## 4.关键字global"
   ]
  },
  {
   "cell_type": "code",
   "execution_count": 8,
   "metadata": {},
   "outputs": [
    {
     "name": "stdout",
     "output_type": "stream",
     "text": [
      "[1, 2, 3]\n",
      "[1, 2, 3]\n"
     ]
    }
   ],
   "source": [
    "x = 5\n",
    "def foo():\n",
    "    global x\n",
    "    x = [1, 2, 3]\n",
    "    print(x)\n",
    "foo()  \n",
    "print(x)  #函数中定义global变量，就可以通过函数改变变量的值"
   ]
  },
  {
   "cell_type": "code",
   "execution_count": 9,
   "metadata": {},
   "outputs": [
    {
     "name": "stdout",
     "output_type": "stream",
     "text": [
      "[1, 2, 3]\n",
      "5\n"
     ]
    }
   ],
   "source": [
    "x = 5\n",
    "def foo():\n",
    "    x = [1, 2, 3]\n",
    "    print(x)\n",
    "foo() \n",
    "print(x)"
   ]
  },
  {
   "cell_type": "markdown",
   "metadata": {},
   "source": [
    "## 5.函数的递归"
   ]
  },
  {
   "cell_type": "code",
   "execution_count": 29,
   "metadata": {},
   "outputs": [
    {
     "data": {
      "text/plain": [
       "[1, 1, 2, 3, 5, 8, 13, 21, 34, 55]"
      ]
     },
     "execution_count": 29,
     "metadata": {},
     "output_type": "execute_result"
    }
   ],
   "source": [
    "def fib1(n):\n",
    "    return 1 if n<=1 else fib1(n-1) + fib1(n-2)\n",
    "list(map(fib1, range(10)))  #普通的递归"
   ]
  },
  {
   "cell_type": "code",
   "execution_count": 30,
   "metadata": {},
   "outputs": [
    {
     "data": {
      "text/plain": [
       "[1, 1, 2, 3, 5, 8, 13, 21, 34, 55]"
      ]
     },
     "execution_count": 30,
     "metadata": {},
     "output_type": "execute_result"
    }
   ],
   "source": [
    "def fib2(n):\n",
    "    a, b = 1, 1\n",
    "    for _ in range(n):\n",
    "        a, b = b, a+b\n",
    "    return a\n",
    "list(map(fib2, range(10)))  #非递归的方法"
   ]
  },
  {
   "cell_type": "code",
   "execution_count": 31,
   "metadata": {},
   "outputs": [
    {
     "data": {
      "text/plain": [
       "[1, 1, 2, 3, 5, 8, 13, 21, 34, 55]"
      ]
     },
     "execution_count": 31,
     "metadata": {},
     "output_type": "execute_result"
    }
   ],
   "source": [
    "def fib3(n, cache={0:1, 1:1}):\n",
    "    try:\n",
    "        return cache[n]\n",
    "    except KeyError:\n",
    "        cache[n] = fib3(n-1) + fib3(n-2)\n",
    "        return cache[n]\n",
    "\n",
    "list(map(fib3, range(10)))  #使用默认缓存对递归进行优化"
   ]
  },
  {
   "cell_type": "code",
   "execution_count": 32,
   "metadata": {
    "scrolled": false
   },
   "outputs": [
    {
     "name": "stdout",
     "output_type": "stream",
     "text": [
      "432 ms ± 25.9 ms per loop (mean ± std. dev. of 7 runs, 1 loop each)\n"
     ]
    }
   ],
   "source": [
    "%timeit fib1(30)"
   ]
  },
  {
   "cell_type": "code",
   "execution_count": 64,
   "metadata": {},
   "outputs": [
    {
     "name": "stdout",
     "output_type": "stream",
     "text": [
      "2.62 µs ± 169 ns per loop (mean ± std. dev. of 7 runs, 100000 loops each)\n"
     ]
    }
   ],
   "source": [
    "%timeit fib2(30)"
   ]
  },
  {
   "cell_type": "code",
   "execution_count": 65,
   "metadata": {},
   "outputs": [
    {
     "name": "stdout",
     "output_type": "stream",
     "text": [
      "155 ns ± 1.31 ns per loop (mean ± std. dev. of 7 runs, 10000000 loops each)\n"
     ]
    }
   ],
   "source": [
    "%timeit fib3(30)"
   ]
  },
  {
   "cell_type": "markdown",
   "metadata": {},
   "source": [
    "# 二、迭代器与生成器"
   ]
  },
  {
   "cell_type": "markdown",
   "metadata": {},
   "source": [
    "## 1.迭代器(Iterator)"
   ]
  },
  {
   "cell_type": "code",
   "execution_count": 4,
   "metadata": {},
   "outputs": [],
   "source": [
    "##容器类型通常包含一个迭代器，帮助它们支持for循环的操作\n",
    "##要实现一个._iter_()方法返回相应的迭代器\n",
    "x = (1, 2, 3)\n",
    "i = x.__iter__()"
   ]
  },
  {
   "cell_type": "code",
   "execution_count": 5,
   "metadata": {},
   "outputs": [
    {
     "name": "stdout",
     "output_type": "stream",
     "text": [
      "1\n",
      "2\n",
      "3\n"
     ]
    }
   ],
   "source": [
    "print(next(i))\n",
    "print(next(i))\n",
    "print(next(i))"
   ]
  },
  {
   "cell_type": "code",
   "execution_count": 6,
   "metadata": {
    "scrolled": false
   },
   "outputs": [
    {
     "ename": "StopIteration",
     "evalue": "",
     "output_type": "error",
     "traceback": [
      "\u001b[1;31m---------------------------------------------------------------------------\u001b[0m",
      "\u001b[1;31mStopIteration\u001b[0m                             Traceback (most recent call last)",
      "\u001b[1;32m<ipython-input-6-64638908a2a6>\u001b[0m in \u001b[0;36m<module>\u001b[1;34m\u001b[0m\n\u001b[1;32m----> 1\u001b[1;33m \u001b[0mnext\u001b[0m\u001b[1;33m(\u001b[0m\u001b[0mi\u001b[0m\u001b[1;33m)\u001b[0m  \u001b[1;31m#当迭代完成后，迭代器就会报错\u001b[0m\u001b[1;33m\u001b[0m\u001b[1;33m\u001b[0m\u001b[0m\n\u001b[0m",
      "\u001b[1;31mStopIteration\u001b[0m: "
     ]
    }
   ],
   "source": [
    "next(i)  #当迭代完成后，迭代器就会报错"
   ]
  },
  {
   "cell_type": "code",
   "execution_count": 7,
   "metadata": {},
   "outputs": [
    {
     "data": {
      "text/plain": [
       "True"
      ]
     },
     "execution_count": 7,
     "metadata": {},
     "output_type": "execute_result"
    }
   ],
   "source": [
    "i.__iter__() is i  # 迭代器的特点之一是：迭代器的迭代器还是其本身"
   ]
  },
  {
   "cell_type": "code",
   "execution_count": 22,
   "metadata": {},
   "outputs": [
    {
     "name": "stdout",
     "output_type": "stream",
     "text": [
      "是否为可迭代对象：True\n",
      "1\n",
      "2\n",
      "3\n",
      "4\n",
      "5\n",
      "6\n",
      "7\n",
      "8\n",
      "9\n",
      "10\n",
      "11\n",
      "12\n",
      "13\n",
      "14\n",
      "15\n",
      "16\n",
      "17\n",
      "18\n",
      "19\n",
      "20\n"
     ]
    }
   ],
   "source": [
    "import collections  #为了查看定义的对象是否可迭代\n",
    "\"\"\"\n",
    "自定义数字自加迭代器，加到20为止\n",
    "对于一个迭代器来说，定义是：__iter__()方法返回迭代器本身，__next__()方法进行迭代，知道出错为止\n",
    "\"\"\"\n",
    "class MyNumbers:\n",
    "  def __iter__(self):\n",
    "    self.a = 1\n",
    "    return self\n",
    " \n",
    "  def __next__(self):\n",
    "    if self.a <= 20:        \n",
    "        x = self.a\n",
    "        self.a += 1\n",
    "        return x\n",
    "    else:\n",
    "        raise StopIteration  \n",
    "myclass = MyNumbers()\n",
    "print(\"是否为可迭代对象：%s\"%isinstance(myclass,collections.Iterable))\n",
    "myclass.__iter__()\n",
    "myclass.__next__()  #自定义加数迭代器\n",
    "for i in myclass:\n",
    "    print(i,)\n",
    "  #迭代器对象可以作为for循环的对象，将内容依次输出"
   ]
  },
  {
   "cell_type": "code",
   "execution_count": 20,
   "metadata": {
    "scrolled": false
   },
   "outputs": [
    {
     "name": "stdout",
     "output_type": "stream",
     "text": [
      "是否为可迭代对象：True\n",
      "9,8,7,6,5,4,3,2,1,0,"
     ]
    }
   ],
   "source": [
    "##自定义逆序迭代器\n",
    "import collections  #为了查看定义的对象是否可迭代\n",
    "class Reverse:\n",
    "    def __init__(self, x):\n",
    "        self.seq = x\n",
    "        self.idx = len(x)\n",
    "\n",
    "    def __iter__(self):\n",
    "        return self\n",
    "\n",
    "    def __next__(self):\n",
    "        self.idx -= 1\n",
    "        if self.idx >= 0:\n",
    "            return self.seq[self.idx]\n",
    "        else:\n",
    "            raise StopIteration\n",
    "\n",
    "x = list(range(10))\n",
    "print(\"是否为可迭代对象：%s\"%isinstance(Reverse(x),collections.Iterable))\n",
    "type(Reverse(x))\n",
    "Reverse(x).__iter__()\n",
    "for i in Reverse(x):\n",
    "    print(i, end=\",\")  #end参数可以调节输入之间的间隔符号"
   ]
  },
  {
   "cell_type": "code",
   "execution_count": 32,
   "metadata": {},
   "outputs": [
    {
     "name": "stdout",
     "output_type": "stream",
     "text": [
      "22 11.0 34.0 17.0 52.0 26.0 13.0 40.0 20.0 10.0 5.0 16.0 8.0 4.0 2.0 1.0 "
     ]
    }
   ],
   "source": [
    "\"\"\"\n",
    "Collatz猜想\n",
    "有一位数学家猜想，从任意的正整数n开始使用一定的规则迭代，总能在有限次操作内使n为1\n",
    "自定义迭代器对象，功能是，对于任意输入整数进行迭代，直到数字变为1\n",
    "\"\"\"\n",
    "class Collatz(object):\n",
    "    def __init__(self, n):\n",
    "        self.value = n\n",
    "    \n",
    "    def __iter__(self):\n",
    "        return self\n",
    "    \n",
    "    def __next__(self):\n",
    "        if self.value == 1:\n",
    "            raise StopIteration\n",
    "        elif self.value % 2 == 0:\n",
    "            self.value = self.value / 2\n",
    "        else:\n",
    "            self.value = 3 * self.value + 1\n",
    "        return self.value\n",
    "for i in Collatz(7):\n",
    "    print (i, end=\" \")\n"
   ]
  },
  {
   "cell_type": "markdown",
   "metadata": {},
   "source": [
    "## 2.生成器"
   ]
  },
  {
   "cell_type": "markdown",
   "metadata": {},
   "source": [
    "#### 使用类实现自定义类型的迭代器比较麻烦，所以有一种用函数生成的迭代器更为方便，那就是生成器"
   ]
  },
  {
   "cell_type": "code",
   "execution_count": 2,
   "metadata": {},
   "outputs": [
    {
     "name": "stdout",
     "output_type": "stream",
     "text": [
      "22 11.0 34.0 17.0 52.0 26.0 13.0 40.0 20.0 10.0 5.0 16.0 8.0 4.0 2.0 1.0 "
     ]
    }
   ],
   "source": [
    "\"\"\"\n",
    "还是对于Collatzcai猜想，使用生成器生成,注意生成器中的返回不是return，是yield\n",
    "\"\"\"\n",
    "\n",
    "def collatz(n):\n",
    "    while n != 1:\n",
    "        if n % 2 == 0:\n",
    "            n /= 2\n",
    "        else:\n",
    "            n = 3*n + 1\n",
    "        yield n\n",
    "\n",
    "for x in collatz(7):\n",
    "    print(x, end=\" \")\n"
   ]
  },
  {
   "cell_type": "code",
   "execution_count": 29,
   "metadata": {
    "scrolled": true
   },
   "outputs": [
    {
     "name": "stdout",
     "output_type": "stream",
     "text": [
      "22\n",
      "True\n"
     ]
    },
    {
     "data": {
      "text/plain": [
       "<generator object collatz at 0x0000029A029AB8B8>"
      ]
     },
     "execution_count": 29,
     "metadata": {},
     "output_type": "execute_result"
    }
   ],
   "source": [
    "g = collatz(7)\n",
    "print(g.__next__())\n",
    "print(g.__iter__() is g)  #经过验证，生成器就是一种特殊的迭代器\n",
    "g"
   ]
  },
  {
   "cell_type": "code",
   "execution_count": 21,
   "metadata": {},
   "outputs": [
    {
     "name": "stdout",
     "output_type": "stream",
     "text": [
      "d c b a "
     ]
    }
   ],
   "source": [
    "\"\"\"\n",
    "逆序数的生成器实现\n",
    "\"\"\"\n",
    "def reverse(data):\n",
    "    for index in range(len(data)-1, -1, -1):\n",
    "        yield data[index]\n",
    "\n",
    "for c in reverse(\"abcd\"):\n",
    "    print(c, end=\" \")\n"
   ]
  },
  {
   "cell_type": "code",
   "execution_count": 23,
   "metadata": {
    "scrolled": true
   },
   "outputs": [
    {
     "data": {
      "text/plain": [
       "<generator object <genexpr> at 0x0000029A029AB7C8>"
      ]
     },
     "execution_count": 23,
     "metadata": {},
     "output_type": "execute_result"
    }
   ],
   "source": [
    "(x for x in range(10))  可见，py中利用for循环生成列表的操作是生成器"
   ]
  },
  {
   "cell_type": "code",
   "execution_count": 31,
   "metadata": {
    "collapsed": true
   },
   "outputs": [
    {
     "data": {
      "text/plain": [
       "'\\n使用生成器或者迭代器，不需要一次性保存序列的所有值，可以在需要的时候计算，从而节省内存空间\\n'"
      ]
     },
     "execution_count": 31,
     "metadata": {},
     "output_type": "execute_result"
    }
   ],
   "source": [
    "\"\"\"\n",
    "使用生成器或者迭代器，不需要一次性保存序列的所有值，可以在需要的时候计算，从而节省内存空间\n",
    "\"\"\""
   ]
  },
  {
   "cell_type": "markdown",
   "metadata": {},
   "source": [
    "# 三、装饰器(接受函数作为参数的函数)"
   ]
  },
  {
   "cell_type": "code",
   "execution_count": 3,
   "metadata": {
    "scrolled": true
   },
   "outputs": [
    {
     "data": {
      "text/plain": [
       "<function __main__.foo(x)>"
      ]
     },
     "execution_count": 3,
     "metadata": {},
     "output_type": "execute_result"
    }
   ],
   "source": [
    "def foo(x):\n",
    "    print(x)\n",
    "\n",
    "foo  #py中，函数本身其实也是个对象"
   ]
  },
  {
   "cell_type": "code",
   "execution_count": 36,
   "metadata": {
    "scrolled": false
   },
   "outputs": [],
   "source": [
    "contents = dir(foo)  #使用dir()函数查看对象的属性和方法"
   ]
  },
  {
   "cell_type": "code",
   "execution_count": 26,
   "metadata": {
    "scrolled": false
   },
   "outputs": [
    {
     "name": "stdout",
     "output_type": "stream",
     "text": [
      "25\n"
     ]
    }
   ],
   "source": [
    "foo.__call__(25)  #使用foo(x)相当于调用了__call__()方法"
   ]
  },
  {
   "cell_type": "code",
   "execution_count": 4,
   "metadata": {},
   "outputs": [
    {
     "name": "stdout",
     "output_type": "stream",
     "text": [
      "calling function foo\n"
     ]
    },
    {
     "data": {
      "text/plain": [
       "<function __main__.foo(x)>"
      ]
     },
     "execution_count": 4,
     "metadata": {},
     "output_type": "execute_result"
    }
   ],
   "source": [
    "\"\"\"\n",
    "定义一个函数，输入一个函数，打印出函数的名字\n",
    "\"\"\"\n",
    "def nameit(f):\n",
    "    print(\"calling function\", f.__name__)\n",
    "    return f\n",
    "nameit(foo)"
   ]
  },
  {
   "cell_type": "code",
   "execution_count": 11,
   "metadata": {},
   "outputs": [
    {
     "name": "stdout",
     "output_type": "stream",
     "text": [
      "calling function foo\n",
      "3\n"
     ]
    }
   ],
   "source": [
    "##这里定义装饰器时，有一些小小的瑕疵，就是在没有调用函数时，还是有了函数的信息；这时我们可以使用函数中套函数的方法进行完善\n",
    "##如下所示：\n",
    "def nameit_b(f):\n",
    "    def g(*args, **kwargs):\n",
    "        print(\"calling function\", f.__name__)\n",
    "        return f(*args, **kwargs)\n",
    "    return g\n",
    "\n",
    "nameit_b(foo)(3)"
   ]
  },
  {
   "cell_type": "markdown",
   "metadata": {},
   "source": [
    "对装饰器的改进"
   ]
  },
  {
   "cell_type": "code",
   "execution_count": 6,
   "metadata": {
    "scrolled": true
   },
   "outputs": [
    {
     "name": "stdout",
     "output_type": "stream",
     "text": [
      "calling function foo\n",
      "25\n"
     ]
    }
   ],
   "source": [
    "nameit(foo)(25)  #比起上面的结果，现在的结果中，多了一行名称，，而这行文字是通过函数来定义实现的，这个给函数加特技的函数就叫装饰器"
   ]
  },
  {
   "cell_type": "code",
   "execution_count": 12,
   "metadata": {
    "scrolled": true
   },
   "outputs": [
    {
     "name": "stdout",
     "output_type": "stream",
     "text": [
      "calling function add\n"
     ]
    },
    {
     "data": {
      "text/plain": [
       "8"
      ]
     },
     "execution_count": 12,
     "metadata": {},
     "output_type": "execute_result"
    }
   ],
   "source": [
    "@nameit_b\n",
    "def add(x, y):\n",
    "    return (x+y)  #想使用装饰器，只需在定义函数的时候在前面加@即可，十分的方便，而且装饰器可以使用多个\n",
    "\n",
    "add(3,5)"
   ]
  },
  {
   "cell_type": "code",
   "execution_count": 14,
   "metadata": {
    "scrolled": false
   },
   "outputs": [
    {
     "ename": "AssertionError",
     "evalue": "",
     "output_type": "error",
     "traceback": [
      "\u001b[1;31m---------------------------------------------------------------------------\u001b[0m",
      "\u001b[1;31mAssertionError\u001b[0m                            Traceback (most recent call last)",
      "\u001b[1;32m<ipython-input-14-05205d3ff0db>\u001b[0m in \u001b[0;36m<module>\u001b[1;34m\u001b[0m\n\u001b[1;32m----> 1\u001b[1;33m \u001b[1;32massert\u001b[0m \u001b[1;33m(\u001b[0m\u001b[0misinstance\u001b[0m\u001b[1;33m(\u001b[0m\u001b[1;36m5.0\u001b[0m\u001b[1;33m,\u001b[0m \u001b[0mint\u001b[0m\u001b[1;33m)\u001b[0m\u001b[1;33m)\u001b[0m\u001b[1;33m\u001b[0m\u001b[1;33m\u001b[0m\u001b[0m\n\u001b[0m",
      "\u001b[1;31mAssertionError\u001b[0m: "
     ]
    }
   ],
   "source": [
    "assert (isinstance(5.0, int))  #assert关键字，作为py中的关键字，这个可以用来检测之后的表达式是否为真，如果为假程序就会报错"
   ]
  },
  {
   "cell_type": "markdown",
   "metadata": {},
   "source": [
    "多个装饰器是可以叠加使用的"
   ]
  },
  {
   "cell_type": "code",
   "execution_count": 17,
   "metadata": {},
   "outputs": [
    {
     "name": "stdout",
     "output_type": "stream",
     "text": [
      "calling function new_func\n"
     ]
    },
    {
     "data": {
      "text/plain": [
       "11"
      ]
     },
     "execution_count": 17,
     "metadata": {},
     "output_type": "execute_result"
    }
   ],
   "source": [
    "##多个装饰器一起使用\n",
    "def plus_one(f):\n",
    "    def new_func(x):\n",
    "        return (f(x) + 1)\n",
    "    return new_func\n",
    "\n",
    "def mult_two(f):\n",
    "    def new_func(x):\n",
    "        return (f(x) * 2)\n",
    "    return new_func\n",
    "\n",
    "@nameit_b  #A\n",
    "@plus_one  #B\n",
    "@mult_two  #C\n",
    "def foo(x):\n",
    "    return(x)  #f=A(B(C(f)))\n",
    "\n",
    "foo(5)"
   ]
  },
  {
   "cell_type": "markdown",
   "metadata": {},
   "source": [
    "装饰器还可以进行加工化，成为一个装饰器工厂（批量化产生装饰器）"
   ]
  },
  {
   "cell_type": "code",
   "execution_count": 26,
   "metadata": {},
   "outputs": [
    {
     "name": "stdout",
     "output_type": "stream",
     "text": [
      "calling function new_func\n"
     ]
    },
    {
     "data": {
      "text/plain": [
       "35"
      ]
     },
     "execution_count": 26,
     "metadata": {},
     "output_type": "execute_result"
    }
   ],
   "source": [
    "##对于上面的装饰器可以定义f（x）+n的装饰器，以及f（x）*n的装饰器\n",
    "\n",
    "def plus_n(n):\n",
    "    def plus_dec(f):\n",
    "        def new_func(x):\n",
    "            return (f(x) + n)  #返回加法运算结果\n",
    "        return new_func  #根据f返回装饰后的函数\n",
    "    return plus_dec  #根据n返回特定加法装饰器\n",
    "#加法装饰器\n",
    "\n",
    "def mult_n(n):\n",
    "    def mult_dec(f):\n",
    "        def new_func(x):\n",
    "            return (f(x) * n)\n",
    "        return new_func\n",
    "    return mult_dec\n",
    "##乘法装饰器\n",
    "\n",
    "@nameit_b  #A\n",
    "@plus_n(5)  #B\n",
    "@mult_n(6)  #C\n",
    "def foo(x):\n",
    "    return(x)  #f=A(B(C(f)))\n",
    "\n",
    "foo(5)"
   ]
  },
  {
   "cell_type": "markdown",
   "metadata": {},
   "source": [
    "# 四、上下文管理器与with语句"
   ]
  },
  {
   "cell_type": "markdown",
   "metadata": {},
   "source": [
    "py提供了上下文管理器的机制来解决这个问题，通常通过with使用\n",
    "它是一个实现了__enter__()方法和__exit__()方法的对象"
   ]
  },
  {
   "cell_type": "code",
   "execution_count": 1,
   "metadata": {},
   "outputs": [
    {
     "data": {
      "text/plain": [
       "<function TextIOWrapper.__enter__>"
      ]
     },
     "execution_count": 1,
     "metadata": {},
     "output_type": "execute_result"
    }
   ],
   "source": [
    "f = open(\"test.txt\", \"w\")\n",
    "f.__enter__"
   ]
  },
  {
   "cell_type": "code",
   "execution_count": 2,
   "metadata": {},
   "outputs": [
    {
     "data": {
      "text/plain": [
       "<function TextIOWrapper.__exit__>"
      ]
     },
     "execution_count": 2,
     "metadata": {},
     "output_type": "execute_result"
    }
   ],
   "source": [
    "f.__exit__"
   ]
  },
  {
   "cell_type": "code",
   "execution_count": 3,
   "metadata": {},
   "outputs": [],
   "source": [
    "f.close()  "
   ]
  },
  {
   "cell_type": "code",
   "execution_count": 4,
   "metadata": {},
   "outputs": [
    {
     "name": "stdout",
     "output_type": "stream",
     "text": [
      "Entering\n",
      "Hello~\n",
      "Exiting\n"
     ]
    }
   ],
   "source": [
    "\"\"\"\n",
    "自定义一个上下文管理器对象\n",
    "\"\"\"\n",
    "class TestManager(object):\n",
    "    def __enter__(self):\n",
    "        print(\"Entering\")\n",
    "    \n",
    "    def __exit__(self, exc_type, exc_value, tracebcak):  #__exit__方法需要接受3个额外参数\n",
    "        print(\"Exiting\")\n",
    "    \n",
    "with TestManager():\n",
    "    print(\"Hello~\")  #使用管理器（用with关键字），先调用enter方法，然后语句，然后exit方法\n",
    "\n"
   ]
  },
  {
   "cell_type": "code",
   "execution_count": 5,
   "metadata": {},
   "outputs": [
    {
     "name": "stdout",
     "output_type": "stream",
     "text": [
      "Entering\n",
      "Exiting\n"
     ]
    },
    {
     "ename": "ZeroDivisionError",
     "evalue": "division by zero",
     "output_type": "error",
     "traceback": [
      "\u001b[1;31m---------------------------------------------------------------------------\u001b[0m",
      "\u001b[1;31mZeroDivisionError\u001b[0m                         Traceback (most recent call last)",
      "\u001b[1;32m<ipython-input-5-13fc12b486c8>\u001b[0m in \u001b[0;36m<module>\u001b[1;34m\u001b[0m\n\u001b[0;32m      1\u001b[0m \u001b[1;32mwith\u001b[0m \u001b[0mTestManager\u001b[0m\u001b[1;33m(\u001b[0m\u001b[1;33m)\u001b[0m\u001b[1;33m:\u001b[0m\u001b[1;33m\u001b[0m\u001b[1;33m\u001b[0m\u001b[0m\n\u001b[1;32m----> 2\u001b[1;33m     \u001b[0ma\u001b[0m \u001b[1;33m=\u001b[0m \u001b[1;36m1\u001b[0m\u001b[1;33m/\u001b[0m\u001b[1;36m0\u001b[0m  \u001b[1;31m#若with中的语句出错，就会调用exit方法\u001b[0m\u001b[1;33m\u001b[0m\u001b[1;33m\u001b[0m\u001b[0m\n\u001b[0m",
      "\u001b[1;31mZeroDivisionError\u001b[0m: division by zero"
     ]
    }
   ],
   "source": [
    "with TestManager():\n",
    "    a = 1/0  #若with中的语句出错，就会调用exit方法\n"
   ]
  },
  {
   "cell_type": "code",
   "execution_count": 6,
   "metadata": {},
   "outputs": [
    {
     "data": {
      "text/plain": [
       "True"
      ]
     },
     "execution_count": 6,
     "metadata": {},
     "output_type": "execute_result"
    }
   ],
   "source": [
    "##enter方法返回的值刚好是它本身,即enter方法返回的是一个上下文管理器\n",
    "f = open(\"test.txt\", \"w\")\n",
    "f.__enter__() is f"
   ]
  },
  {
   "cell_type": "code",
   "execution_count": 7,
   "metadata": {},
   "outputs": [
    {
     "name": "stdout",
     "output_type": "stream",
     "text": [
      "<__main__.TestManager object at 0x0000022A36D6FF98>\n",
      "Exiting\n"
     ]
    }
   ],
   "source": [
    "class TestManager(object):\n",
    "    def __enter__(self):\n",
    "        return (self)  #返回管理器本身\n",
    "    \n",
    "    def __exit__(self, exc_type, exc_value, tracebcak):  #__exit__方法需要接受3个额外参数\n",
    "        print(\"Exiting\")\n",
    "\n",
    "with TestManager() as value:  #将TestManager()管理器as为value，本质上就是把enter（）方法的返回值赋值给value\n",
    "    print(value)\n"
   ]
  },
  {
   "cell_type": "markdown",
   "metadata": {},
   "source": [
    "## 3.方法exit()与异常处理"
   ]
  },
  {
   "cell_type": "markdown",
   "metadata": {},
   "source": [
    "注意到上文中，定义exit方法时，需要额外输入三个参数，这三个参数与异常处理有关"
   ]
  },
  {
   "cell_type": "code",
   "execution_count": 9,
   "metadata": {},
   "outputs": [
    {
     "name": "stdout",
     "output_type": "stream",
     "text": [
      "Exiting\n",
      "Arg: <class 'ZeroDivisionError'>\n",
      "Arg: division by zero\n",
      "Arg: <traceback object at 0x0000022A36D9FE08>\n"
     ]
    },
    {
     "ename": "ZeroDivisionError",
     "evalue": "division by zero",
     "output_type": "error",
     "traceback": [
      "\u001b[1;31m---------------------------------------------------------------------------\u001b[0m",
      "\u001b[1;31mZeroDivisionError\u001b[0m                         Traceback (most recent call last)",
      "\u001b[1;32m<ipython-input-9-effda9299d1a>\u001b[0m in \u001b[0;36m<module>\u001b[1;34m\u001b[0m\n\u001b[0;32m     10\u001b[0m \u001b[1;33m\u001b[0m\u001b[0m\n\u001b[0;32m     11\u001b[0m \u001b[1;32mwith\u001b[0m \u001b[0mTestManager\u001b[0m\u001b[1;33m(\u001b[0m\u001b[1;33m)\u001b[0m\u001b[1;33m:\u001b[0m\u001b[1;33m\u001b[0m\u001b[1;33m\u001b[0m\u001b[0m\n\u001b[1;32m---> 12\u001b[1;33m     \u001b[0ma\u001b[0m \u001b[1;33m=\u001b[0m \u001b[1;36m1\u001b[0m\u001b[1;33m/\u001b[0m\u001b[1;36m0\u001b[0m\u001b[1;33m\u001b[0m\u001b[1;33m\u001b[0m\u001b[0m\n\u001b[0m\u001b[0;32m     13\u001b[0m \u001b[1;33m\u001b[0m\u001b[0m\n\u001b[0;32m     14\u001b[0m \u001b[1;31m##可以看到运行异常时，这三个变量记录了错误的相关信息\u001b[0m\u001b[1;33m\u001b[0m\u001b[1;33m\u001b[0m\u001b[1;33m\u001b[0m\u001b[0m\n",
      "\u001b[1;31mZeroDivisionError\u001b[0m: division by zero"
     ]
    }
   ],
   "source": [
    "class TestManager(object):\n",
    "    def __enter__(self):\n",
    "        return (self)  #返回管理器本身\n",
    "    \n",
    "    def __exit__(self, exc_type, exc_value, traceback):  #__exit__方法需要接受3个额外参数\n",
    "        print(\"Exiting\")\n",
    "        print(\"Arg:\", exc_type)\n",
    "        print(\"Arg:\", exc_value)\n",
    "        print(\"Arg:\", traceback)\n",
    "\n",
    "with TestManager():\n",
    "    a = 1/0\n",
    "\n",
    "##可以看到运行异常时，这三个变量记录了错误的相关信息"
   ]
  },
  {
   "cell_type": "code",
   "execution_count": 10,
   "metadata": {},
   "outputs": [
    {
     "name": "stdout",
     "output_type": "stream",
     "text": [
      "Exiting\n",
      "Arg: <class 'ZeroDivisionError'>\n",
      "Arg: division by zero\n",
      "Arg: <traceback object at 0x0000022A36D9FAC8>\n"
     ]
    }
   ],
   "source": [
    "class TestManager(object):\n",
    "    def __enter__(self):\n",
    "        return (self)  #返回管理器本身\n",
    "    \n",
    "    def __exit__(self, exc_type, exc_value, traceback):  #__exit__方法需要接受3个额外参数\n",
    "        print(\"Exiting\")\n",
    "        print(\"Arg:\", exc_type)\n",
    "        print(\"Arg:\", exc_value)\n",
    "        print(\"Arg:\", traceback)\n",
    "        return True\n",
    "with TestManager():\n",
    "    a = 1/0\n",
    "\n",
    "##将exit 的返回值设置为True就可以不显示错误的信息啦"
   ]
  },
  {
   "cell_type": "code",
   "execution_count": 11,
   "metadata": {},
   "outputs": [],
   "source": [
    "###文件管理器的用处在于，不需要自己编写try和finally代码块增加工作量；通过with可以达到同样的效果\n",
    "###让文件写入在出错时，能够正常关闭，不会出错"
   ]
  },
  {
   "cell_type": "markdown",
   "metadata": {},
   "source": [
    "## 4.模块contextlib"
   ]
  },
  {
   "cell_type": "markdown",
   "metadata": {},
   "source": [
    "py提供了contextlib模块来方便的使用上下文管理器"
   ]
  },
  {
   "cell_type": "markdown",
   "metadata": {},
   "source": [
    "### 1.contextmanager装饰器"
   ]
  },
  {
   "cell_type": "code",
   "execution_count": 12,
   "metadata": {},
   "outputs": [
    {
     "name": "stdout",
     "output_type": "stream",
     "text": [
      "Hello!\n",
      "HaHa\n",
      "Bye!\n"
     ]
    }
   ],
   "source": [
    "import contextlib\n",
    "@contextlib.contextmanager\n",
    "def test_manager():\n",
    "    print(\"Hello!\")\n",
    "    yield (\"HaHa\")\n",
    "    print(\"Bye!\")\n",
    "\n",
    "with test_manager() as value:\n",
    "    print(value)  #看得出这其实是个上下文管理器"
   ]
  },
  {
   "cell_type": "markdown",
   "metadata": {},
   "source": [
    "着重介绍一下contextmanager装饰器；\n",
    "能够将一个函数改变成一个上下文管理器；\n",
    "但是对函数有一些要求：1.必须是一个生成器；2.yield只能被执行一次；3.yield之前的可以看做enter方法的内部；yield返回的就是enter方法的返回值；yield 之后的可以看做exit方法的内部\n"
   ]
  },
  {
   "cell_type": "code",
   "execution_count": 13,
   "metadata": {},
   "outputs": [
    {
     "name": "stdout",
     "output_type": "stream",
     "text": [
      "Hello!\n",
      "Error: division by zero\n",
      "Bye!\n"
     ]
    }
   ],
   "source": [
    "##但是这种方法有一个问题，就是不能够在主体出错时，执行exit方法，所以需要自己使用try块进行修改\n",
    "@contextlib.contextmanager\n",
    "def test_manager():\n",
    "    print(\"Hello!\")\n",
    "    try:\n",
    "        yield (\"HaHa\")\n",
    "    except Exception as exc:\n",
    "        print(\"Error:\", exc)\n",
    "    finally:\n",
    "        print(\"Bye!\")\n",
    "\n",
    "with test_manager():\n",
    "    a = 1/0\n",
    "\n",
    "\n"
   ]
  },
  {
   "cell_type": "markdown",
   "metadata": {},
   "source": [
    "### 2.closing函数"
   ]
  },
  {
   "cell_type": "markdown",
   "metadata": {},
   "source": [
    "closing()函数，该函数接受一个对象，返回一个确保该对象的.close()方法被调用的上下文管理器"
   ]
  },
  {
   "cell_type": "code",
   "execution_count": 14,
   "metadata": {},
   "outputs": [
    {
     "name": "stdout",
     "output_type": "stream",
     "text": [
      "b'\\r\\n'\n"
     ]
    }
   ],
   "source": [
    "##实例如下\n",
    "from urllib import request\n",
    "from contextlib import closing\n",
    "\n",
    "with closing(request.urlopen(\"https://www.accaglobal.com/uk/en.html\")) as url:\n",
    "    line = url.readline()\n",
    "    print(line)\n"
   ]
  },
  {
   "cell_type": "code",
   "execution_count": 15,
   "metadata": {},
   "outputs": [
    {
     "data": {
      "text/plain": [
       "200"
      ]
     },
     "execution_count": 15,
     "metadata": {},
     "output_type": "execute_result"
    }
   ],
   "source": [
    "a = request.urlopen(\"https://www.accaglobal.com/uk/en.html\")\n",
    "a.getcode()  #200代表允许访问，连接成功"
   ]
  },
  {
   "cell_type": "markdown",
   "metadata": {},
   "source": [
    "# 五、变量作用域"
   ]
  },
  {
   "cell_type": "markdown",
   "metadata": {},
   "source": [
    "python中有函数局部变量；全局变量；内置变量作用域；以及闭包作用域"
   ]
  },
  {
   "cell_type": "code",
   "execution_count": 16,
   "metadata": {},
   "outputs": [
    {
     "name": "stdout",
     "output_type": "stream",
     "text": [
      "1\n"
     ]
    },
    {
     "data": {
      "text/plain": [
       "5"
      ]
     },
     "execution_count": 16,
     "metadata": {},
     "output_type": "execute_result"
    }
   ],
   "source": [
    "c = 1\n",
    "def plus(a, b):\n",
    "    c = 2\n",
    "    return(a+b+c)\n",
    "\n",
    "print(c)  #函数内的局部变量不会影响函数外部的全局变量的\n",
    "plus(1, 2)"
   ]
  },
  {
   "cell_type": "code",
   "execution_count": 17,
   "metadata": {},
   "outputs": [
    {
     "name": "stdout",
     "output_type": "stream",
     "text": [
      "6\n",
      "c = 3\n"
     ]
    }
   ],
   "source": [
    "c = 1\n",
    "def plus(a, b):\n",
    "    global c\n",
    "    c = 3\n",
    "    return(a+b+c)\n",
    "\n",
    "print(plus(1, 2))\n",
    "print(\"c =\",c)  #此时就改变了c的值，因为函数内部将c申明为了全局变量"
   ]
  },
  {
   "cell_type": "code",
   "execution_count": 18,
   "metadata": {},
   "outputs": [
    {
     "data": {
      "text/plain": [
       "1"
      ]
     },
     "execution_count": 18,
     "metadata": {},
     "output_type": "execute_result"
    }
   ],
   "source": [
    "def outer():\n",
    "    a = 1\n",
    "    def inner():\n",
    "        return a\n",
    "    return inner\n",
    "\n",
    "outer()()  #对于inner函数来说，a既不是局部变量也不是全局变量，py中称之为闭包变量作用域"
   ]
  },
  {
   "cell_type": "code",
   "execution_count": null,
   "metadata": {},
   "outputs": [],
   "source": []
  }
 ],
 "metadata": {
  "kernelspec": {
   "display_name": "Python 3",
   "language": "python",
   "name": "python3"
  },
  "language_info": {
   "codemirror_mode": {
    "name": "ipython",
    "version": 3
   },
   "file_extension": ".py",
   "mimetype": "text/x-python",
   "name": "python",
   "nbconvert_exporter": "python",
   "pygments_lexer": "ipython3",
   "version": "3.7.3"
  }
 },
 "nbformat": 4,
 "nbformat_minor": 2
}
