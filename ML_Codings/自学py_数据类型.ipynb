{
 "cells": [
  {
   "cell_type": "markdown",
   "metadata": {},
   "source": [
    "# 一、数据类型"
   ]
  },
  {
   "cell_type": "markdown",
   "metadata": {},
   "source": [
    "## 字符串操作"
   ]
  },
  {
   "cell_type": "code",
   "execution_count": 37,
   "metadata": {},
   "outputs": [
    {
     "ename": "TypeError",
     "evalue": "'str' object does not support item assignment",
     "output_type": "error",
     "traceback": [
      "\u001b[1;31m---------------------------------------------------------------------------\u001b[0m",
      "\u001b[1;31mTypeError\u001b[0m                                 Traceback (most recent call last)",
      "\u001b[1;32m<ipython-input-37-a0c426589d1f>\u001b[0m in \u001b[0;36m<module>\u001b[1;34m\u001b[0m\n\u001b[0;32m      1\u001b[0m \u001b[0ms\u001b[0m \u001b[1;33m=\u001b[0m \u001b[1;34m\"hello world\"\u001b[0m\u001b[1;33m\u001b[0m\u001b[1;33m\u001b[0m\u001b[0m\n\u001b[1;32m----> 2\u001b[1;33m \u001b[0ms\u001b[0m\u001b[1;33m[\u001b[0m\u001b[1;36m0\u001b[0m\u001b[1;33m]\u001b[0m \u001b[1;33m=\u001b[0m \u001b[1;34m\"a\"\u001b[0m\u001b[1;33m\u001b[0m\u001b[1;33m\u001b[0m\u001b[0m\n\u001b[0m",
      "\u001b[1;31mTypeError\u001b[0m: 'str' object does not support item assignment"
     ]
    }
   ],
   "source": [
    "s = \"hello world\"\n",
    "s[0] = \"a\"  #字符串不支持修改操作"
   ]
  },
  {
   "cell_type": "code",
   "execution_count": 38,
   "metadata": {},
   "outputs": [
    {
     "data": {
      "text/plain": [
       "['5', '6', '7', '8', '9']"
      ]
     },
     "execution_count": 38,
     "metadata": {},
     "output_type": "execute_result"
    }
   ],
   "source": [
    "line = \"5 6 7 8  9\"\n",
    "line.split()"
   ]
  },
  {
   "cell_type": "code",
   "execution_count": 39,
   "metadata": {},
   "outputs": [
    {
     "data": {
      "text/plain": [
       "['5', '6', '7', '8', '9']"
      ]
     },
     "execution_count": 39,
     "metadata": {},
     "output_type": "execute_result"
    }
   ],
   "source": [
    "line = \"5,6,7,8,9\"\n",
    "line.split(\",\")"
   ]
  },
  {
   "cell_type": "code",
   "execution_count": 40,
   "metadata": {},
   "outputs": [
    {
     "data": {
      "text/plain": [
       "['5', '6', '7,8,9']"
      ]
     },
     "execution_count": 40,
     "metadata": {},
     "output_type": "execute_result"
    }
   ],
   "source": [
    "line = \"5,6,7,8,9\"\n",
    "line.split(\",\",2)  #按照逗号分隔字符串，并且分割成两份"
   ]
  },
  {
   "cell_type": "code",
   "execution_count": 41,
   "metadata": {},
   "outputs": [
    {
     "data": {
      "text/plain": [
       "['5,6,7', '8', '9']"
      ]
     },
     "execution_count": 41,
     "metadata": {},
     "output_type": "execute_result"
    }
   ],
   "source": [
    "line = \"5,6,7,8,9\"\n",
    "line.rsplit(\",\",2)  #按照逗号反向分隔字符串，并且分割成两部分"
   ]
  },
  {
   "cell_type": "markdown",
   "metadata": {},
   "source": [
    "## 1.join（）函数的简介"
   ]
  },
  {
   "cell_type": "code",
   "execution_count": 17,
   "metadata": {},
   "outputs": [
    {
     "data": {
      "text/plain": [
       "'5:6:7:8:9'"
      ]
     },
     "execution_count": 17,
     "metadata": {},
     "output_type": "execute_result"
    }
   ],
   "source": [
    "numbers = [\"5\",\"6\",\"7\",\"8\",\"9\"]\n",
    "s = \":\"\n",
    "s.join(numbers) "
   ]
  },
  {
   "cell_type": "markdown",
   "metadata": {},
   "source": [
    "## 2.replace（）函数简介"
   ]
  },
  {
   "cell_type": "code",
   "execution_count": 18,
   "metadata": {},
   "outputs": [
    {
     "data": {
      "text/plain": [
       "'hello python'"
      ]
     },
     "execution_count": 18,
     "metadata": {},
     "output_type": "execute_result"
    }
   ],
   "source": [
    "s = \"hello world\"\n",
    "s.replace(\"world\", \"python\")"
   ]
  },
  {
   "cell_type": "code",
   "execution_count": 19,
   "metadata": {},
   "outputs": [
    {
     "data": {
      "text/plain": [
       "'hello world'"
      ]
     },
     "execution_count": 19,
     "metadata": {},
     "output_type": "execute_result"
    }
   ],
   "source": [
    "s  #replace不改变s的原值"
   ]
  },
  {
   "cell_type": "code",
   "execution_count": 20,
   "metadata": {},
   "outputs": [
    {
     "data": {
      "text/plain": [
       "'5:6:7:8:9'"
      ]
     },
     "execution_count": 20,
     "metadata": {},
     "output_type": "execute_result"
    }
   ],
   "source": [
    "s = \"5 6 7 8 9\"\n",
    "s.replace(\" \", \":\")"
   ]
  },
  {
   "cell_type": "code",
   "execution_count": 21,
   "metadata": {},
   "outputs": [
    {
     "data": {
      "text/plain": [
       "'5:6 7 8 9'"
      ]
     },
     "execution_count": 21,
     "metadata": {},
     "output_type": "execute_result"
    }
   ],
   "source": [
    "s.replace(\" \", \":\", 1)"
   ]
  },
  {
   "cell_type": "markdown",
   "metadata": {},
   "source": [
    "## 3.strip()函数"
   ]
  },
  {
   "cell_type": "code",
   "execution_count": 3,
   "metadata": {},
   "outputs": [],
   "source": [
    "s = \" hello world \""
   ]
  },
  {
   "cell_type": "code",
   "execution_count": 9,
   "metadata": {},
   "outputs": [
    {
     "data": {
      "text/plain": [
       "('hello world', 'hello world ', ' hello world')"
      ]
     },
     "execution_count": 9,
     "metadata": {},
     "output_type": "execute_result"
    }
   ],
   "source": [
    "a = s.strip()  # 去除两端的多余空格\n",
    "b = s.lstrip()  # 去除开头多余空格\n",
    "c = s.rstrip()  # 去除结尾多余空格\n",
    "a,b,c"
   ]
  },
  {
   "cell_type": "markdown",
   "metadata": {},
   "source": [
    "## 4.代码的换行"
   ]
  },
  {
   "cell_type": "code",
   "execution_count": 15,
   "metadata": {},
   "outputs": [
    {
     "data": {
      "text/plain": [
       "'hello world it is a nice day'"
      ]
     },
     "execution_count": 15,
     "metadata": {},
     "output_type": "execute_result"
    }
   ],
   "source": [
    "a = (\"hello world\"\n",
    "    \" it is a nice day\")  # 使用括号\n",
    "a"
   ]
  },
  {
   "cell_type": "markdown",
   "metadata": {},
   "source": [
    "## 5.字符与数字的相互转化"
   ]
  },
  {
   "cell_type": "code",
   "execution_count": 18,
   "metadata": {},
   "outputs": [
    {
     "data": {
      "text/plain": [
       "('12.1', '12.1')"
      ]
     },
     "execution_count": 18,
     "metadata": {},
     "output_type": "execute_result"
    }
   ],
   "source": [
    "str(5.5 + 6.6),repr(5.5 + 6.6)  # 数字转化为字符串"
   ]
  },
  {
   "cell_type": "code",
   "execution_count": 21,
   "metadata": {},
   "outputs": [
    {
     "data": {
      "text/plain": [
       "(666, 666.66)"
      ]
     },
     "execution_count": 21,
     "metadata": {},
     "output_type": "execute_result"
    }
   ],
   "source": [
    "int(\"666\"),float(\"666.66\")  # 字符串转化为数字"
   ]
  },
  {
   "cell_type": "code",
   "execution_count": 22,
   "metadata": {},
   "outputs": [
    {
     "data": {
      "text/plain": [
       "(97, 'a')"
      ]
     },
     "execution_count": 22,
     "metadata": {},
     "output_type": "execute_result"
    }
   ],
   "source": [
    "ord(\"a\"),chr(97)  # ASCII码值与对应字符的相互转化；ASCII码值是一套基于拉丁字母的计算机编码系统"
   ]
  },
  {
   "cell_type": "markdown",
   "metadata": {},
   "source": [
    "## 6.字符串的格式化"
   ]
  },
  {
   "cell_type": "markdown",
   "metadata": {},
   "source": [
    "### 法一：粗暴加法"
   ]
  },
  {
   "cell_type": "code",
   "execution_count": 24,
   "metadata": {},
   "outputs": [
    {
     "data": {
      "text/plain": [
       "'CYZ is 22 year old'"
      ]
     },
     "execution_count": 24,
     "metadata": {},
     "output_type": "execute_result"
    }
   ],
   "source": [
    "name, age = \"CYZ\", 22\n",
    "name + \" is \" + str(age) + \" year old\""
   ]
  },
  {
   "cell_type": "markdown",
   "metadata": {},
   "source": [
    "### 法二：格式控制符"
   ]
  },
  {
   "cell_type": "code",
   "execution_count": 25,
   "metadata": {},
   "outputs": [
    {
     "data": {
      "text/plain": [
       "'CYZ is 22 years old.'"
      ]
     },
     "execution_count": 25,
     "metadata": {},
     "output_type": "execute_result"
    }
   ],
   "source": [
    "'%s is %d years old.' % (name, age)  # %s表示字符串，%d表示整数，%f表示浮点数"
   ]
  },
  {
   "cell_type": "markdown",
   "metadata": {},
   "source": [
    "### 法三：.format()格式化"
   ]
  },
  {
   "cell_type": "code",
   "execution_count": 29,
   "metadata": {},
   "outputs": [
    {
     "data": {
      "text/plain": [
       "('CYZ is 22 years old.', '22 is CYZ years old')"
      ]
     },
     "execution_count": 29,
     "metadata": {},
     "output_type": "execute_result"
    }
   ],
   "source": [
    "'{} is {} years old.'.format(name, age),\"{1} is {0} years old\".format(name, age)  # 可以通过索引指定替代参数的位置"
   ]
  },
  {
   "cell_type": "code",
   "execution_count": 30,
   "metadata": {},
   "outputs": [
    {
     "data": {
      "text/plain": [
       "'6*6*6 = 216'"
      ]
     },
     "execution_count": 30,
     "metadata": {},
     "output_type": "execute_result"
    }
   ],
   "source": [
    "x = 6\n",
    "\"{0}*{0}*{0} = {1}\".format(x, x**3)"
   ]
  },
  {
   "cell_type": "code",
   "execution_count": 35,
   "metadata": {},
   "outputs": [
    {
     "data": {
      "text/plain": [
       "'CYZ        is         22,which is 0000000022,old, what a 22.22'"
      ]
     },
     "execution_count": 35,
     "metadata": {},
     "output_type": "execute_result"
    }
   ],
   "source": [
    "\"\"\"\n",
    "{<field name>:<format>} 控制输出的类型和格式\n",
    "{：10s}指定字符串，长度为10，长度不够的在后面补空格\n",
    "{：10d}指定整数，长度为10，长度不够的在前面补空格\n",
    "{：010d}指定整数，长度为10，长度不够的在前面补0\n",
    "{：.2f}自定浮点型数据，2位小数\n",
    "\"\"\"\n",
    "\"{0:10s} is {1:10d},which is {1:010d},old, what a {2:.2f}\".format(name,age,22.222)  "
   ]
  },
  {
   "cell_type": "code",
   "execution_count": 43,
   "metadata": {},
   "outputs": [
    {
     "data": {
      "text/plain": [
       "'aaaaaaaaaaaaaaaaaaaaaaaaaaaa 1111111111111111'"
      ]
     },
     "execution_count": 43,
     "metadata": {},
     "output_type": "execute_result"
    }
   ],
   "source": [
    "a = \"aaaaaaaaaaaaaaaaaaaaaaaaaaaa\"\n",
    "b = 1111111111111111\n",
    "\n",
    "\"{:10s} {:10d}\".format(a,b)   # 并不会截断原数据，只会在不足的时候补充空格或者0"
   ]
  },
  {
   "cell_type": "markdown",
   "metadata": {},
   "source": [
    "## 7.Unicode字符串"
   ]
  },
  {
   "cell_type": "code",
   "execution_count": 19,
   "metadata": {},
   "outputs": [
    {
     "name": "stdout",
     "output_type": "stream",
     "text": [
      "b's length is 2 in Unicode,while a's length is 6 in ASCII code.\n",
      "中国 b'\\xe4\\xb8\\xad\\xe5\\x9b\\xbd'\n"
     ]
    },
    {
     "data": {
      "text/plain": [
       "'中国'"
      ]
     },
     "execution_count": 19,
     "metadata": {},
     "output_type": "execute_result"
    }
   ],
   "source": [
    "b=u\"中国\"  #unicode编码下的存储，字符长度为2\n",
    "a=b.encode(\"utf-8\")  #把它转化为ASCII码下的存储，字符长度为6\n",
    "print(\"b's length is {} in Unicode,while a's length is {} in ASCII code.\".format(len(b),len(a)))\n",
    "print(b,a)\n",
    "a.decode() #再转回Unicode编码"
   ]
  },
  {
   "cell_type": "markdown",
   "metadata": {},
   "source": [
    "## 8.索引与分片"
   ]
  },
  {
   "cell_type": "code",
   "execution_count": 2,
   "metadata": {},
   "outputs": [
    {
     "name": "stdout",
     "output_type": "stream",
     "text": [
      "H B d\n"
     ]
    }
   ],
   "source": [
    "s = \"Hold Back\"\n",
    "print(s[0],s[5],s[-6]) #可以正数索引也可以负数索引，正数从0开始，负数从-1开始"
   ]
  },
  {
   "cell_type": "code",
   "execution_count": 4,
   "metadata": {
    "scrolled": true
   },
   "outputs": [
    {
     "name": "stdout",
     "output_type": "stream",
     "text": [
      "old B Hol d Back\n",
      "Hl ak ka lH\n"
     ]
    }
   ],
   "source": [
    "#分片：在字符串中截取一部分出来，取下不取上\n",
    "print(s[1:6],s[:-6],s[-6:])\n",
    "print(s[::2],s[::-2])  #后面一个参数是调节抽取间隔，负数表示收尾颠倒"
   ]
  },
  {
   "cell_type": "markdown",
   "metadata": {},
   "source": [
    "## 9.列表"
   ]
  },
  {
   "cell_type": "markdown",
   "metadata": {},
   "source": [
    "### 1.基本操作"
   ]
  },
  {
   "cell_type": "code",
   "execution_count": 14,
   "metadata": {},
   "outputs": [
    {
     "name": "stdout",
     "output_type": "stream",
     "text": [
      "['Cyz', 22, 'statistics', 'LOL', 'Cyz', 22, 'statistics', 'LOL'] ['Cyz', 22, 'statistics', 'LOL', 'Cyz', 22, 'statistics', 'LOL']\n",
      "['Cyz', 22] LOL\n",
      "['Cyz', 22, 'statistics', 'The Shy']\n",
      "['Cyz', 4, 4, 4, 4, 'The Shy']\n",
      "[1, 4, 3, 4, 5, 'The Shy']\n",
      "[4, 3, 4, 5, 'The Shy']\n",
      "['The Shy']\n"
     ]
    }
   ],
   "source": [
    "l = [\"Cyz\", 22, \"statistics\", \"LOL\"]\n",
    "len(l)\n",
    "print(l * 2, l + l) #加减操作，求长度操作，都是可以用的\n",
    "\"\"\"\n",
    "注意这里，py中字符串一旦创建就不能被修改\n",
    "但是列表却可以修改的\n",
    "\"\"\"\n",
    "print(l[:2],l[3])  # 切片和索引\n",
    "l[3] = \"The Shy\"  # 修改元素\n",
    "print(l)\n",
    "l[1:3] = [4, 4, 4, 4]\n",
    "print(l) # 间隔为1的连续分片，py采用的是整段替换，直接用一个新的列表替代原来的分片，两者的元素不要求相同\n",
    "l[::2] = [1, 3, 5]\n",
    "print(l)  # 间隔大于1的分片替换时，必须要个数完全相同\n",
    "# 删除元素\n",
    "del l[0]\n",
    "print(l)\n",
    "del l[:4]\n",
    "print(l)"
   ]
  },
  {
   "cell_type": "markdown",
   "metadata": {},
   "source": [
    "### 2.判断元素是否在列表中"
   ]
  },
  {
   "cell_type": "code",
   "execution_count": 21,
   "metadata": {},
   "outputs": [
    {
     "name": "stdout",
     "output_type": "stream",
     "text": [
      "False\n",
      "True\n"
     ]
    }
   ],
   "source": [
    "a = [5, 5, 6, 7, 8, \"9\"]\n",
    "print(9 in a)\n",
    "print(9 not in a)"
   ]
  },
  {
   "cell_type": "markdown",
   "metadata": {},
   "source": [
    "### 3.不改变列表的方法"
   ]
  },
  {
   "cell_type": "code",
   "execution_count": 25,
   "metadata": {},
   "outputs": [
    {
     "name": "stdout",
     "output_type": "stream",
     "text": [
      "2\n",
      "0\n"
     ]
    }
   ],
   "source": [
    "# .count()方法\n",
    "print(a.count(5)) # 返回特定元素出现的次数\n",
    "# .index()方法\n",
    "print(a.index(5)) #返回列表中某个元素第一次出现的索引位置"
   ]
  },
  {
   "cell_type": "markdown",
   "metadata": {},
   "source": [
    "### 4.改变列表的方法"
   ]
  },
  {
   "cell_type": "code",
   "execution_count": 12,
   "metadata": {
    "scrolled": false
   },
   "outputs": [
    {
     "name": "stdout",
     "output_type": "stream",
     "text": [
      "[5, 5, 6, 7, 8]\n",
      "[5, 5, 6, 7, 8, 1, 2]\n",
      "[5, 5, 'a', 6, 7, 8, 1, 2]\n",
      "[5, 'a', 6, 7, 8, 1, 2]\n",
      "[5, 'a', 7, 8, 1, 2]\n",
      "[0, 6, 7, 8, 9]\n",
      "[9, 8, 7, 6, 0]\n",
      "[0, 6, 7, 8, 9]\n",
      "[9, 8, 7, 6, 0]\n",
      "[0, 9, 7, 8, 6]\n"
     ]
    }
   ],
   "source": [
    "a = [5, 5, 6, 7]\n",
    "a.append(8)  # 一次只能添加一个元素，这个元素可以是任意类型的\n",
    "print(a)\n",
    "a.extend([1, 2])  # 添加一个序列进入列表\n",
    "print(a)\n",
    "a.insert(2, \"a\")\n",
    "print(a) # 指定位置添加指定元素\n",
    "a.remove(5)\n",
    "print(a)  # 删除出现的第一个元素\n",
    "a.pop(2)\n",
    "print(a)  # 删除指定索引位置的元素（弹出元素）\n",
    "b = [6,7,9,0,8]\n",
    "b.sort()  # 按照从小到大的顺序给列表元素排序\n",
    "print(b)\n",
    "b.sort(reverse=True) # 从大到小排序，添加参数reverse为True即可\n",
    "print(b)\n",
    "print(sorted(b))  # 不改变原来列表值得情况下，使用sorted函数生成一个新的排序列表\n",
    "print(b)\n",
    "### 这里注意啦，reverse只是将列表前后颠倒，并不做排序\n",
    "c = [6,8,7,9,0]\n",
    "c.reverse()\n",
    "print(c) # 将原来的列表颠倒展示，但是改变了原来的列表"
   ]
  },
  {
   "cell_type": "markdown",
   "metadata": {},
   "source": [
    "## 10.元组"
   ]
  },
  {
   "cell_type": "markdown",
   "metadata": {},
   "source": [
    "### 1.基本操作"
   ]
  },
  {
   "cell_type": "code",
   "execution_count": 21,
   "metadata": {},
   "outputs": [
    {
     "name": "stdout",
     "output_type": "stream",
     "text": [
      "1 \n",
      " (1, 2, 3, 4, 5) \t (2, 3)\n",
      "<class 'tuple'>\n",
      "<class 'list'>\n",
      "<class 'tuple'>\n"
     ]
    }
   ],
   "source": [
    "t = (1, 2, 3, 4, 5)\n",
    "print(t[0],\"\\n\",t,\"\\t\",t[1:3])\n",
    "print(type(t))\n",
    "# 注意：元组与列表的不同之处在于不能修改元素\n",
    "a = list(t)\n",
    "print(type(a)) # 类型转化函数可以在list和tuple之间转换\n",
    "\n",
    "############\n",
    "s = 1, 2, 3, 4, 5\n",
    "print(type(s))  # 在多元素生成元组时，不用括号也是可以的"
   ]
  },
  {
   "cell_type": "markdown",
   "metadata": {},
   "source": [
    "### 2.列表与元组哪个生成速度快？"
   ]
  },
  {
   "cell_type": "code",
   "execution_count": 15,
   "metadata": {},
   "outputs": [
    {
     "name": "stdout",
     "output_type": "stream",
     "text": [
      "179 ns ± 4.34 ns per loop (mean ± std. dev. of 7 runs, 10000000 loops each)\n"
     ]
    }
   ],
   "source": [
    "%timeit [1, 2, 3, 4, 5, 6, 7, 8, 9, 10, 11, 12, 13, 14, 15, 16, 17, 18, 19, 20]"
   ]
  },
  {
   "cell_type": "code",
   "execution_count": 17,
   "metadata": {},
   "outputs": [
    {
     "name": "stdout",
     "output_type": "stream",
     "text": [
      "12.6 ns ± 0.983 ns per loop (mean ± std. dev. of 7 runs, 100000000 loops each)\n"
     ]
    }
   ],
   "source": [
    "%timeit (1, 2, 3, 4, 5, 6, 7, 8, 9, 10, 11, 12, 13, 14, 15, 16, 17, 18, 19, 20)\n",
    "# 看得出，元组的生成速度要比列表快出一个数量级"
   ]
  },
  {
   "cell_type": "markdown",
   "metadata": {},
   "source": [
    "### 3.元组的元素一定不能修改吗？"
   ]
  },
  {
   "cell_type": "code",
   "execution_count": 19,
   "metadata": {},
   "outputs": [
    {
     "name": "stdout",
     "output_type": "stream",
     "text": [
      "([1, 2], 2, 3, 4, 5)\n",
      "([1, 2, 5], 2, 3, 4, 5)\n"
     ]
    }
   ],
   "source": [
    "#the answer is definitely no!\n",
    "# 但是注意了，a[0] = 1, 这样的直接赋值方式仍然是不能使用的\n",
    "a = ([1, 2], 2, 3, 4, 5)\n",
    "print(a)\n",
    "a[0].append(5) # 可以通过这种函数来修改列表值\n",
    "print(a)"
   ]
  },
  {
   "cell_type": "code",
   "execution_count": 34,
   "metadata": {},
   "outputs": [
    {
     "name": "stdout",
     "output_type": "stream",
     "text": [
      "a = 1  b = 2\n"
     ]
    },
    {
     "data": {
      "text/plain": [
       "(1, 2)"
      ]
     },
     "execution_count": 34,
     "metadata": {},
     "output_type": "execute_result"
    }
   ],
   "source": [
    "# python中是允许多变量赋值的，而多变量赋值的本质是将两个元组中的元素一一对应\n",
    "#所以只要等号两边元素相同，多少变量赋值都可以进行\n",
    "a, b = 1, 2\n",
    "print(\"a = {}  b = {}\".format(a, b))\n",
    "a, b"
   ]
  },
  {
   "cell_type": "markdown",
   "metadata": {},
   "source": [
    "## 11.字典"
   ]
  },
  {
   "cell_type": "markdown",
   "metadata": {},
   "source": [
    "### 1.基本操作"
   ]
  },
  {
   "cell_type": "code",
   "execution_count": 28,
   "metadata": {},
   "outputs": [
    {
     "name": "stdout",
     "output_type": "stream",
     "text": [
      "<class 'dict'> <class 'dict'>\n",
      "{'one': 1, 'two': 2}\n",
      "{'one': 1, 'two': 2}\n",
      "{'one': 1, 'two': 2, 'three': 3}\n"
     ]
    }
   ],
   "source": [
    "# 字典的存储是无序的，所以只能通过键来索引，而不能通过位置索引\n",
    "#同时字典中的键是不可变的类型（字符串，数字，元组）\n",
    "a = {}\n",
    "b = dict()\n",
    "print(type(a),type(b))  #两种空字典的初始化方法\n",
    "a[\"one\"] = 1\n",
    "a[\"two\"] = 2\n",
    "print(a)  #初始化方法\n",
    "c = {\"one\": 1, \"two\": 2} \n",
    "print(c)  # 两种初始化方法\n",
    "b = dict([(\"one\", 1), (\"two\", 2), (\"three\", 3)]) # 用dict函数来初始化字典：注意赋值的方式，是以列表的形式进行的，每个键值对都是一个元组\n",
    "print(b)"
   ]
  },
  {
   "cell_type": "code",
   "execution_count": 8,
   "metadata": {},
   "outputs": [
    {
     "ename": "TypeError",
     "evalue": "unhashable type: 'list'",
     "output_type": "error",
     "traceback": [
      "\u001b[1;31m---------------------------------------------------------------------------\u001b[0m",
      "\u001b[1;31mTypeError\u001b[0m                                 Traceback (most recent call last)",
      "\u001b[1;32m<ipython-input-8-687f73a856a9>\u001b[0m in \u001b[0;36m<module>\u001b[1;34m\u001b[0m\n\u001b[1;32m----> 1\u001b[1;33m \u001b[0ma\u001b[0m\u001b[1;33m[\u001b[0m\u001b[1;33m[\u001b[0m\u001b[1;36m1\u001b[0m\u001b[1;33m,\u001b[0m\u001b[1;36m2\u001b[0m\u001b[1;33m]\u001b[0m\u001b[1;33m]\u001b[0m \u001b[1;33m=\u001b[0m \u001b[1;36m1\u001b[0m\u001b[1;33m\u001b[0m\u001b[1;33m\u001b[0m\u001b[0m\n\u001b[0m",
      "\u001b[1;31mTypeError\u001b[0m: unhashable type: 'list'"
     ]
    }
   ],
   "source": [
    "a[[1,2]] = 1 #键不能使用可变类型的数据"
   ]
  },
  {
   "cell_type": "markdown",
   "metadata": {},
   "source": [
    "### 2.进一步操作"
   ]
  },
  {
   "cell_type": "code",
   "execution_count": 14,
   "metadata": {},
   "outputs": [
    {
     "data": {
      "text/plain": [
       "'not defined'"
      ]
     },
     "execution_count": 14,
     "metadata": {},
     "output_type": "execute_result"
    }
   ],
   "source": [
    "a = {\"one\": 1, \"two\": 2, \"three\": 3}\n",
    "a.get(\"four\", \"not defined\")  \n",
    "# get函数可以通过关键字来查看与之对应的值，第一个参数是相应的关键字，第二个参数是当关键字不在字典中时，返回什么值（默认返回none）"
   ]
  },
  {
   "cell_type": "code",
   "execution_count": 22,
   "metadata": {},
   "outputs": [
    {
     "data": {
      "text/plain": [
       "3"
      ]
     },
     "execution_count": 22,
     "metadata": {},
     "output_type": "execute_result"
    }
   ],
   "source": [
    "b = {\"one\": 1, \"two\": 6, \"three\": 3, \"four\": 4}\n",
    "b.pop(\"three\", \"no such word\")  \n",
    "#pop函数，删除关键字对应的键值对，并且返回对应的值"
   ]
  },
  {
   "cell_type": "code",
   "execution_count": 23,
   "metadata": {},
   "outputs": [
    {
     "name": "stdout",
     "output_type": "stream",
     "text": [
      "{'one': 1, 'two': 6, 'three': 3, 'four': 4}\n"
     ]
    }
   ],
   "source": [
    "#上面的两种方法对于单个修改十分有用，但是当有大规模修改时\n",
    "a.update(b)\n",
    "print(a) #更新重复的值，并且添加没有的值"
   ]
  },
  {
   "cell_type": "code",
   "execution_count": 27,
   "metadata": {
    "scrolled": true
   },
   "outputs": [
    {
     "name": "stdout",
     "output_type": "stream",
     "text": [
      "dict_keys(['one', 'two', 'three', 'four']) <class 'dict_keys'>\n",
      "dict_values([1, 6, 3, 4]) <class 'dict_values'>\n",
      "dict_items([('one', 1), ('two', 6), ('three', 3), ('four', 4)]) <class 'dict_items'>\n"
     ]
    }
   ],
   "source": [
    "#查看键值对的具体值（不以字典的形式）\n",
    "print(a.keys(),type(a.keys()))\n",
    "print(a.values(),type(a.values()))\n",
    "print(a.items(),type(a.items()))"
   ]
  },
  {
   "cell_type": "markdown",
   "metadata": {},
   "source": [
    "## 12.集合"
   ]
  },
  {
   "cell_type": "markdown",
   "metadata": {},
   "source": [
    "### 1.基本操作"
   ]
  },
  {
   "cell_type": "code",
   "execution_count": 3,
   "metadata": {},
   "outputs": [
    {
     "name": "stdout",
     "output_type": "stream",
     "text": [
      "{1, 2, 3, 4}\n",
      "{1, 2, 4, 5}\n",
      "<class 'set'>\n"
     ]
    },
    {
     "data": {
      "text/plain": [
       "dict"
      ]
     },
     "execution_count": 3,
     "metadata": {},
     "output_type": "execute_result"
    }
   ],
   "source": [
    "#集合中的元素是无序的，且集合中的元素是各异的\n",
    "#为了保证集合中不能包含相同的元素，规定集合中只能放入不可变元素\n",
    "a = set([1, 2, 3, 4])\n",
    "print(a)\n",
    "b = {1, 2, 4, 5} #与字典的创建方式相同\n",
    "print(b)\n",
    "print(type(set()))  #创建空集合的唯一方法\n",
    "type({})  #这是空字典的创建方法"
   ]
  },
  {
   "cell_type": "code",
   "execution_count": 11,
   "metadata": {},
   "outputs": [
    {
     "name": "stdout",
     "output_type": "stream",
     "text": [
      "{1, 2, 3, 4, 5}\n",
      "{1, 2, 3, 4, 5}\n",
      "{1, 2, 4}\n",
      "{1, 2, 4}\n",
      "{3}\n",
      "{3}\n",
      "{5}\n",
      "{5}\n",
      "{3, 5}\n",
      "{3, 5}\n"
     ]
    }
   ],
   "source": [
    "#两集合之间的操作\n",
    "print(a | b)\n",
    "print(a.union(b))  #并集的两种方法\n",
    "print(a & b)\n",
    "print(a.intersection(b))  # 交集的两种生成方法\n",
    "#交和并操作都是可以交换的，没有顺序\n",
    "#但是差运算却是有顺序的\n",
    "print(a - b)\n",
    "print(a.difference(b))\n",
    "print(b - a)\n",
    "print(b.difference(a))  #差运算的两种方法\n",
    "#对称差集，就是a-b与b-a的并\n",
    "print(a ^ b)\n",
    "print(a.symmetric_difference(b)) #两种生成方法\n",
    "#函数方法都是对应英文的命名"
   ]
  },
  {
   "cell_type": "code",
   "execution_count": 15,
   "metadata": {},
   "outputs": [
    {
     "name": "stdout",
     "output_type": "stream",
     "text": [
      "False True False\n",
      "True True True\n"
     ]
    }
   ],
   "source": [
    "#包含关系，子集和真子集\n",
    "a = {1, 2, 3}\n",
    "b = {1, 2, 3}\n",
    "c = {1, 2}\n",
    "print(a < b, c < a, a < a) #真子集的判断\n",
    "print(a <= b, c <= a, a <= a)  #子集的判断"
   ]
  },
  {
   "cell_type": "markdown",
   "metadata": {},
   "source": [
    "### 2.进一步操作"
   ]
  },
  {
   "cell_type": "code",
   "execution_count": 30,
   "metadata": {},
   "outputs": [
    {
     "name": "stdout",
     "output_type": "stream",
     "text": [
      "{1, 2, 3, 5}\n"
     ]
    }
   ],
   "source": [
    "t = {1, 2, 3}\n",
    "t.add(5)\n",
    "print(t)"
   ]
  },
  {
   "cell_type": "code",
   "execution_count": 31,
   "metadata": {},
   "outputs": [
    {
     "name": "stdout",
     "output_type": "stream",
     "text": [
      "{1, 2, 3, 5, 7, 8}\n"
     ]
    }
   ],
   "source": [
    "t.update([1, 3, 5, 7, 8])\n",
    "print(t)  #效果相当于并操作"
   ]
  },
  {
   "cell_type": "code",
   "execution_count": 32,
   "metadata": {},
   "outputs": [
    {
     "name": "stdout",
     "output_type": "stream",
     "text": [
      "{1, 2, 3, 7, 8}\n",
      "{1, 2, 7, 8}\n",
      "{1, 2, 7, 8}\n"
     ]
    },
    {
     "ename": "KeyError",
     "evalue": "5",
     "output_type": "error",
     "traceback": [
      "\u001b[1;31m---------------------------------------------------------------------------\u001b[0m",
      "\u001b[1;31mKeyError\u001b[0m                                  Traceback (most recent call last)",
      "\u001b[1;32m<ipython-input-32-763daebfacc7>\u001b[0m in \u001b[0;36m<module>\u001b[1;34m\u001b[0m\n\u001b[0;32m      5\u001b[0m \u001b[0mt\u001b[0m\u001b[1;33m.\u001b[0m\u001b[0mdiscard\u001b[0m\u001b[1;33m(\u001b[0m\u001b[1;36m3\u001b[0m\u001b[1;33m)\u001b[0m\u001b[1;33m\u001b[0m\u001b[1;33m\u001b[0m\u001b[0m\n\u001b[0;32m      6\u001b[0m \u001b[0mprint\u001b[0m\u001b[1;33m(\u001b[0m\u001b[0mt\u001b[0m\u001b[1;33m)\u001b[0m\u001b[1;33m\u001b[0m\u001b[1;33m\u001b[0m\u001b[0m\n\u001b[1;32m----> 7\u001b[1;33m \u001b[0mt\u001b[0m\u001b[1;33m.\u001b[0m\u001b[0mremove\u001b[0m\u001b[1;33m(\u001b[0m\u001b[1;36m5\u001b[0m\u001b[1;33m)\u001b[0m  \u001b[1;31m#\u001b[0m\u001b[1;33m\u001b[0m\u001b[1;33m\u001b[0m\u001b[0m\n\u001b[0m",
      "\u001b[1;31mKeyError\u001b[0m: 5"
     ]
    }
   ],
   "source": [
    "t.remove(5)\n",
    "print(t)\n",
    "t.discard(3)\n",
    "print(t)\n",
    "t.discard(3)\n",
    "print(t)\n",
    "t.remove(5)  ##discard和remove的作用都是删除指定元素，但是两者区别在于，discard在删除不存在的元素时不会报错，效果如下"
   ]
  },
  {
   "cell_type": "markdown",
   "metadata": {},
   "source": [
    "### 3.不可变集合"
   ]
  },
  {
   "cell_type": "markdown",
   "metadata": {},
   "source": [
    "#### 与之前介绍的可变集合不同，这里的集合创建之后就不能修改了！"
   ]
  },
  {
   "cell_type": "code",
   "execution_count": 33,
   "metadata": {},
   "outputs": [
    {
     "data": {
      "text/plain": [
       "frozenset({'22', 'CYZ', 'handsome'})"
      ]
     },
     "execution_count": 33,
     "metadata": {},
     "output_type": "execute_result"
    }
   ],
   "source": [
    "unchangeable_set = frozenset([\"CYZ\", \"handsome\", \"22\"])\n",
    "unchangeable_set"
   ]
  },
  {
   "cell_type": "markdown",
   "metadata": {},
   "source": [
    "#### 不可变集合的主要作作用是作为字典的关键字\n",
    "之前介绍元组可以作为字典的关键字，这时元组中的元素先后顺序的不同会代表不同的关键字\n",
    "但是如果以不可变集合作为字典的关键字，那么集合中元素的不同顺序都代表同一个关键字，因为集合是无序的"
   ]
  },
  {
   "cell_type": "code",
   "execution_count": 37,
   "metadata": {},
   "outputs": [
    {
     "name": "stdout",
     "output_type": "stream",
     "text": [
      "{('Shanghai', 'Beijing'): 15, ('Beijing', 'Shanghai'): 10, frozenset({'Beijing', 'Shanghai'}): 500}\n"
     ]
    },
    {
     "data": {
      "text/plain": [
       "True"
      ]
     },
     "execution_count": 37,
     "metadata": {},
     "output_type": "execute_result"
    }
   ],
   "source": [
    "flight_info = {}\n",
    "flight_info[(\"Shanghai\", \"Beijing\")] = 15\n",
    "flight_info[(\"Beijing\", \"Shanghai\")] = 10\n",
    "flight_info[frozenset([\"Beijing\", \"Shanghai\"])] = 500\n",
    "print(flight_info)\n",
    "flight_info[frozenset([\"Beijing\", \"Shanghai\"])] == flight_info[frozenset([\"Shanghai\", \"Beijing\"])]  # 不可变集合中元素顺序并不影响关键字"
   ]
  },
  {
   "cell_type": "markdown",
   "metadata": {},
   "source": [
    "## 13.赋值机制"
   ]
  },
  {
   "cell_type": "markdown",
   "metadata": {},
   "source": [
    "### 1.基本类型的赋值机制"
   ]
  },
  {
   "cell_type": "markdown",
   "metadata": {},
   "source": [
    "#### 首先申请空间存储值，再将变量指向值的地址"
   ]
  },
  {
   "cell_type": "code",
   "execution_count": 3,
   "metadata": {},
   "outputs": [
    {
     "name": "stdout",
     "output_type": "stream",
     "text": [
      "1843339785616\n",
      "1843339785616\n",
      "True\n",
      "1843340060072\n",
      "False\n"
     ]
    }
   ],
   "source": [
    "x = 500\n",
    "print(id(x))\n",
    "y = x\n",
    "print(id(y))\n",
    "print(x is y)\n",
    "y = \"the shy\"\n",
    "print(id(y))  #id函数来显示变量的内存地址\n",
    "print(x is y)"
   ]
  },
  {
   "cell_type": "code",
   "execution_count": 4,
   "metadata": {},
   "outputs": [
    {
     "name": "stdout",
     "output_type": "stream",
     "text": [
      "1843339785488\n",
      "False\n"
     ]
    }
   ],
   "source": [
    "#对于相同值的情况，py会为每个出现的对象单独赋值，不同时指向\n",
    "z = 500\n",
    "print(id(z))\n",
    "print(x is z)"
   ]
  },
  {
   "cell_type": "code",
   "execution_count": 6,
   "metadata": {},
   "outputs": [
    {
     "name": "stdout",
     "output_type": "stream",
     "text": [
      "140720928363360\n",
      "140720928363360\n"
     ]
    },
    {
     "data": {
      "text/plain": [
       "True"
      ]
     },
     "execution_count": 6,
     "metadata": {},
     "output_type": "execute_result"
    }
   ],
   "source": [
    "#但是为了提高内存利用效率，对于简单的对象，也会公用内存\n",
    "a = 2\n",
    "print(id(a))\n",
    "b = 2\n",
    "print(id(b))\n",
    "a is b"
   ]
  },
  {
   "cell_type": "markdown",
   "metadata": {},
   "source": [
    "### 2.容器类型的赋值机制"
   ]
  },
  {
   "cell_type": "markdown",
   "metadata": {},
   "source": [
    "#### 与基本类型不同的是，除了对每个元素开辟内存空间外，还会另外开辟一个存储这些值的地址的空间，然后将变量指向这个地址空间"
   ]
  },
  {
   "cell_type": "code",
   "execution_count": 11,
   "metadata": {},
   "outputs": [
    {
     "name": "stdout",
     "output_type": "stream",
     "text": [
      "True\n",
      "False\n"
     ]
    }
   ],
   "source": [
    "x = [100, 200, 300]  #py为100，200，300 以及这些值的地址组成的地址空间开辟一个空间，并且将x指向地址空间\n",
    "y = x  #将y也指向与x相同的地址空间\n",
    "y[1] = 100  #只改变地址空间中的第二个元素的地址，不改变y的指向，仍然指向x指向的地址空间\n",
    "print(x is y)\n",
    "y = [100, 200]\n",
    "print(x is y)  #这时属于重新赋值，所以改变了y指向的地址空间，py重新为[100, 200]开辟了空间"
   ]
  },
  {
   "cell_type": "markdown",
   "metadata": {},
   "source": [
    "#### 由此可见，y与x是有关系，相互关联的，所以要想生成一个不影响x的y，需要使用相应的函数进行生成"
   ]
  },
  {
   "cell_type": "markdown",
   "metadata": {},
   "source": [
    "#### 比如list()  dict()  set()"
   ]
  },
  {
   "cell_type": "code",
   "execution_count": 12,
   "metadata": {},
   "outputs": [
    {
     "data": {
      "text/plain": [
       "False"
      ]
     },
     "execution_count": 12,
     "metadata": {},
     "output_type": "execute_result"
    }
   ],
   "source": [
    "x = [100, 200]\n",
    "y = list(x)\n",
    "x is y"
   ]
  },
  {
   "cell_type": "markdown",
   "metadata": {},
   "source": [
    "# 二、判断与循环"
   ]
  },
  {
   "cell_type": "markdown",
   "metadata": {},
   "source": [
    "## 1.判断"
   ]
  },
  {
   "cell_type": "markdown",
   "metadata": {},
   "source": [
    "### 3.实例：判断闰年"
   ]
  },
  {
   "cell_type": "code",
   "execution_count": 3,
   "metadata": {},
   "outputs": [
    {
     "name": "stdout",
     "output_type": "stream",
     "text": [
      "this year is a leap year!\n"
     ]
    }
   ],
   "source": [
    "year = 2016\n",
    "if (year% 4 == 0 and year% 100 !=0) or year% 400 ==0:\n",
    "    print(\"this year is a leap year!\")\n",
    "else:\n",
    "    print(\"this year is not a leap year!\")"
   ]
  },
  {
   "cell_type": "code",
   "execution_count": 6,
   "metadata": {},
   "outputs": [
    {
     "data": {
      "text/plain": [
       "'small'"
      ]
     },
     "execution_count": 6,
     "metadata": {},
     "output_type": "execute_result"
    }
   ],
   "source": [
    "a = 5\n",
    "b = \"big\" if a< 0 else \"small\"\n",
    "b"
   ]
  },
  {
   "cell_type": "markdown",
   "metadata": {},
   "source": [
    "## 2.循环"
   ]
  },
  {
   "cell_type": "markdown",
   "metadata": {},
   "source": [
    "### 1.while循环"
   ]
  },
  {
   "cell_type": "code",
   "execution_count": 7,
   "metadata": {},
   "outputs": [
    {
     "data": {
      "text/plain": [
       "9999"
      ]
     },
     "execution_count": 7,
     "metadata": {},
     "output_type": "execute_result"
    }
   ],
   "source": [
    "i,total = 1, 0\n",
    "while i < 10000:\n",
    "    total += 1\n",
    "    i += 1\n",
    "    \n",
    "total"
   ]
  },
  {
   "cell_type": "code",
   "execution_count": 8,
   "metadata": {
    "scrolled": true
   },
   "outputs": [
    {
     "name": "stdout",
     "output_type": "stream",
     "text": [
      "visiting China\n",
      "visiting US\n",
      "visiting England\n"
     ]
    }
   ],
   "source": [
    "country = [\"China\", \"US\", \"England\"]\n",
    "while country:\n",
    "    c = country.pop(0) #判断条件，每次取出一个列表元素，最后为空时终止循环，因为空列表是False\n",
    "    print(\"visiting\", c)\n"
   ]
  },
  {
   "cell_type": "markdown",
   "metadata": {},
   "source": [
    "### 2.for循环"
   ]
  },
  {
   "cell_type": "code",
   "execution_count": 9,
   "metadata": {},
   "outputs": [
    {
     "name": "stdout",
     "output_type": "stream",
     "text": [
      "Visiting China\n",
      "Visiting US\n",
      "Visiting England\n"
     ]
    }
   ],
   "source": [
    "country = [\"China\", \"US\", \"England\"]\n",
    "for c in country:\n",
    "    print(\"Visiting\", c)\n"
   ]
  },
  {
   "cell_type": "code",
   "execution_count": 11,
   "metadata": {},
   "outputs": [
    {
     "name": "stdout",
     "output_type": "stream",
     "text": [
      "5\n",
      "6\n",
      "7\n",
      "8\n"
     ]
    }
   ],
   "source": [
    "#不同类型序列的for循环遍历\n",
    "values = (5, 6, 7, 8)\n",
    "for i in values:\n",
    "    print (i)\n"
   ]
  },
  {
   "cell_type": "code",
   "execution_count": 12,
   "metadata": {},
   "outputs": [
    {
     "name": "stdout",
     "output_type": "stream",
     "text": [
      "8\n",
      "5\n",
      "6\n",
      "7\n"
     ]
    }
   ],
   "source": [
    "values = {5, 6, 7, 8}\n",
    "for i in values:\n",
    "    print(i)\n"
   ]
  },
  {
   "cell_type": "code",
   "execution_count": 2,
   "metadata": {},
   "outputs": [
    {
     "name": "stdout",
     "output_type": "stream",
     "text": [
      "5\n",
      "6\n",
      "7\n",
      "8\n"
     ]
    }
   ],
   "source": [
    "values = {5: \"5\", 6: \"6\", 7: \"7\", 8: \"8\"}\n",
    "for i in values:\n",
    "    print(i)\n"
   ]
  },
  {
   "cell_type": "code",
   "execution_count": 3,
   "metadata": {},
   "outputs": [
    {
     "name": "stdout",
     "output_type": "stream",
     "text": [
      "5 5\n",
      "6 6\n",
      "7 7\n",
      "8 8\n"
     ]
    }
   ],
   "source": [
    "for k in values:\n",
    "    print(k, values[k])\n"
   ]
  },
  {
   "cell_type": "code",
   "execution_count": 4,
   "metadata": {},
   "outputs": [
    {
     "name": "stdout",
     "output_type": "stream",
     "text": [
      "5 5\n",
      "6 6\n",
      "7 7\n",
      "8 8\n"
     ]
    }
   ],
   "source": [
    "for k,v in values.items():\n",
    "    print(k, v)\n"
   ]
  },
  {
   "cell_type": "code",
   "execution_count": 5,
   "metadata": {},
   "outputs": [
    {
     "data": {
      "text/plain": [
       "dict_items([(5, '5'), (6, '6'), (7, '7'), (8, '8')])"
      ]
     },
     "execution_count": 5,
     "metadata": {},
     "output_type": "execute_result"
    }
   ],
   "source": [
    "values.items()"
   ]
  },
  {
   "cell_type": "markdown",
   "metadata": {},
   "source": [
    "### 3.continue 和 break"
   ]
  },
  {
   "cell_type": "code",
   "execution_count": 9,
   "metadata": {},
   "outputs": [
    {
     "name": "stdout",
     "output_type": "stream",
     "text": [
      "8\n",
      "6\n",
      "0\n",
      "56\n",
      "66\n"
     ]
    }
   ],
   "source": [
    "values = [7, 8, 6, 0, 56, 66,59, 67]\n",
    "for i in values:\n",
    "    if i % 2 != 0:\n",
    "        continue\n",
    "    print(i)\n",
    " # 循环返回列表中的奇数值,continue取消本次循环\n"
   ]
  },
  {
   "cell_type": "code",
   "execution_count": 10,
   "metadata": {},
   "outputs": [
    {
     "name": "stdout",
     "output_type": "stream",
     "text": [
      "7\n",
      "8\n",
      "6\n",
      "0\n"
     ]
    }
   ],
   "source": [
    "for i in values:\n",
    "    if i > 10:\n",
    "        break\n",
    "    print(i)\n",
    "#遇到大于10的值时，即跳出循环\n"
   ]
  },
  {
   "cell_type": "markdown",
   "metadata": {},
   "source": [
    "### 4.循环中的else语句"
   ]
  },
  {
   "cell_type": "code",
   "execution_count": 11,
   "metadata": {},
   "outputs": [
    {
     "name": "stdout",
     "output_type": "stream",
     "text": [
      "56\n"
     ]
    }
   ],
   "source": [
    "for i in values:\n",
    "    if i > 10:\n",
    "        print(i)\n",
    "        break\n",
    "else:\n",
    "    print(\"All value <= 10\")\n"
   ]
  },
  {
   "cell_type": "code",
   "execution_count": 12,
   "metadata": {},
   "outputs": [
    {
     "name": "stdout",
     "output_type": "stream",
     "text": [
      "All value <=10\n"
     ]
    }
   ],
   "source": [
    "values = [7, 6, 8, 9]\n",
    "for i in values:\n",
    "    if i > 10:\n",
    "        print(i)\n",
    "        break\n",
    "else:\n",
    "    print(\"All value <=10\")\n",
    "#for或者while循环后面都可以加else语句，执行时只有在break没有触发时被执行"
   ]
  },
  {
   "cell_type": "markdown",
   "metadata": {},
   "source": [
    "### 5.列表推导式"
   ]
  },
  {
   "cell_type": "code",
   "execution_count": 13,
   "metadata": {},
   "outputs": [
    {
     "data": {
      "text/plain": [
       "[49, 36, 64, 81]"
      ]
     },
     "execution_count": 13,
     "metadata": {},
     "output_type": "execute_result"
    }
   ],
   "source": [
    "[x ** 2 for x in values]"
   ]
  },
  {
   "cell_type": "code",
   "execution_count": 14,
   "metadata": {},
   "outputs": [
    {
     "data": {
      "text/plain": [
       "{7: 49, 6: 36, 8: 64, 9: 81}"
      ]
     },
     "execution_count": 14,
     "metadata": {},
     "output_type": "execute_result"
    }
   ],
   "source": [
    "{x: x**2 for x in values if x <= 10}"
   ]
  },
  {
   "cell_type": "markdown",
   "metadata": {},
   "source": [
    "### 6.enumerate()和zip()函数"
   ]
  },
  {
   "cell_type": "code",
   "execution_count": 21,
   "metadata": {},
   "outputs": [
    {
     "name": "stdout",
     "output_type": "stream",
     "text": [
      "pos 0 is 2\n",
      "pos 1 is 4\n",
      "pos 2 is 6\n"
     ]
    }
   ],
   "source": [
    "x = [2, 4, 6]\n",
    "for i, n in enumerate(x):\n",
    "    print(\"pos {} is {}\".format(i, n))\n",
    "#enumerate（）函数在for循环的每一轮会将一个（index, value）的元组传给i,n\n"
   ]
  },
  {
   "cell_type": "code",
   "execution_count": 29,
   "metadata": {},
   "outputs": [
    {
     "data": {
      "text/plain": [
       "[(2, 'a'), (4, 'b'), (6, 'c')]"
      ]
     },
     "execution_count": 29,
     "metadata": {},
     "output_type": "execute_result"
    }
   ],
   "source": [
    "y = [\"a\", \"b\", \"c\"]\n",
    "z = zip(x, y)\n",
    "list(z)  #把两个变量的对应元素合起来，组成一个元组，并组成列表\n",
    "#python3中，zip函数本身返回的是一个对象，因为这样可以节省内存，若想查看可以使用list()进行类型转化"
   ]
  },
  {
   "cell_type": "markdown",
   "metadata": {},
   "source": [
    "# 三、函数与模块"
   ]
  },
  {
   "cell_type": "markdown",
   "metadata": {},
   "source": [
    "## 1.函数"
   ]
  },
  {
   "cell_type": "markdown",
   "metadata": {},
   "source": [
    "### 接受不定数目参数的函数"
   ]
  },
  {
   "cell_type": "code",
   "execution_count": 38,
   "metadata": {},
   "outputs": [
    {
     "data": {
      "text/plain": [
       "(26, tuple)"
      ]
     },
     "execution_count": 38,
     "metadata": {},
     "output_type": "execute_result"
    }
   ],
   "source": [
    "#可以使用星号“*”来实现\n",
    "def add(x, *ys):\n",
    "    \"\"\"\n",
    "    该函数定义时传的参数*ys是一个可变数目的参数，可以把它看做一个元组\n",
    "    \"\"\"\n",
    "    total = x\n",
    "    for y in ys:\n",
    "        total += y\n",
    "    return total,type(ys)\n",
    "\n",
    "add(5, 6, 7, 8)  # 第一个参数传给了x，(6,7,8)相当于把一个元组传给了*ys"
   ]
  },
  {
   "cell_type": "code",
   "execution_count": 37,
   "metadata": {},
   "outputs": [
    {
     "name": "stdout",
     "output_type": "stream",
     "text": [
      "adding y\n",
      "adding z\n",
      "adding w\n"
     ]
    },
    {
     "data": {
      "text/plain": [
       "(26, dict)"
      ]
     },
     "execution_count": 37,
     "metadata": {},
     "output_type": "execute_result"
    }
   ],
   "source": [
    "#当想使用任意键值对作为参数传入时，函数定义需要用两个星号“**”\n",
    "def adds(x, **ys):\n",
    "    total = x\n",
    "    for k, v in ys.items():\n",
    "        print(\"adding\", k)\n",
    "        total += v\n",
    "    return total,type(ys)\n",
    "\n",
    "adds(5, y=8, z=7, w=6)"
   ]
  },
  {
   "cell_type": "markdown",
   "metadata": {},
   "source": [
    "## 2.模块"
   ]
  },
  {
   "cell_type": "code",
   "execution_count": 14,
   "metadata": {},
   "outputs": [
    {
     "ename": "SyntaxError",
     "evalue": "invalid syntax (<ipython-input-14-b01505cf75cd>, line 2)",
     "output_type": "error",
     "traceback": [
      "\u001b[1;36m  File \u001b[1;32m\"<ipython-input-14-b01505cf75cd>\"\u001b[1;36m, line \u001b[1;32m2\u001b[0m\n\u001b[1;33m    %%writefile ex.py\u001b[0m\n\u001b[1;37m    ^\u001b[0m\n\u001b[1;31mSyntaxError\u001b[0m\u001b[1;31m:\u001b[0m invalid syntax\n"
     ]
    }
   ],
   "source": [
    "#包含函数和相关定义的文件被称为模块，建立模块后，可以方便的在其他文件中引用模块中的函数，从而减少工作的重复性\n",
    "%%writefile ex.py\n",
    "def my_sum(lst):\n",
    "    tot = lst[0]\n",
    "    for value in lst[1:]:\n",
    "        tot += value\n",
    "    return tot\n",
    "\n",
    "if __name__ == \"__main__\":  #作为脚本时才会执行的语句，作为调用文件时，并不会被执行\n",
    "    w = [5, 6, 7, 8]\n",
    "    print(mysum(lst))\n"
   ]
  },
  {
   "cell_type": "code",
   "execution_count": 18,
   "metadata": {},
   "outputs": [],
   "source": [
    "##from <包> import <items>  item既可以是子模块也可以是模块中的一个函数或变量\n",
    "## 包中可以包含子包，子包中的模块可以相互调用，方式如下\n",
    "## from . import <items>;from .. import <items>    .代表当前文件夹，..代表当前文件夹的父文件夹"
   ]
  },
  {
   "cell_type": "markdown",
   "metadata": {},
   "source": [
    "# 四、异常与警告"
   ]
  },
  {
   "cell_type": "markdown",
   "metadata": {},
   "source": [
    "## 1.异常（abnormal）"
   ]
  },
  {
   "cell_type": "code",
   "execution_count": 24,
   "metadata": {
    "scrolled": true
   },
   "outputs": [
    {
     "name": "stdout",
     "output_type": "stream",
     "text": [
      "请输入：abc\n"
     ]
    },
    {
     "ename": "ValueError",
     "evalue": "could not convert string to float: 'abc'",
     "output_type": "error",
     "traceback": [
      "\u001b[1;31m---------------------------------------------------------------------------\u001b[0m",
      "\u001b[1;31mValueError\u001b[0m                                Traceback (most recent call last)",
      "\u001b[1;32m<ipython-input-24-19e593601209>\u001b[0m in \u001b[0;36m<module>\u001b[1;34m()\u001b[0m\n\u001b[0;32m      5\u001b[0m     \u001b[1;32mif\u001b[0m \u001b[0mtext\u001b[0m\u001b[1;33m[\u001b[0m\u001b[1;36m0\u001b[0m\u001b[1;33m]\u001b[0m \u001b[1;33m==\u001b[0m \u001b[1;34m\"q\"\u001b[0m\u001b[1;33m:\u001b[0m\u001b[1;33m\u001b[0m\u001b[0m\n\u001b[0;32m      6\u001b[0m         \u001b[1;32mbreak\u001b[0m\u001b[1;33m\u001b[0m\u001b[0m\n\u001b[1;32m----> 7\u001b[1;33m     \u001b[0mx\u001b[0m \u001b[1;33m=\u001b[0m \u001b[0mfloat\u001b[0m\u001b[1;33m(\u001b[0m\u001b[0mtext\u001b[0m\u001b[1;33m)\u001b[0m\u001b[1;33m\u001b[0m\u001b[0m\n\u001b[0m\u001b[0;32m      8\u001b[0m     \u001b[0my\u001b[0m \u001b[1;33m=\u001b[0m \u001b[1;36m1\u001b[0m \u001b[1;33m/\u001b[0m \u001b[0mmath\u001b[0m\u001b[1;33m.\u001b[0m\u001b[0mlog10\u001b[0m\u001b[1;33m(\u001b[0m\u001b[0mx\u001b[0m\u001b[1;33m)\u001b[0m\u001b[1;33m\u001b[0m\u001b[0m\n\u001b[0;32m      9\u001b[0m     \u001b[0mprint\u001b[0m\u001b[1;33m(\u001b[0m\u001b[1;34m\"log10({0}) = {1}\"\u001b[0m\u001b[1;33m.\u001b[0m\u001b[0mformat\u001b[0m\u001b[1;33m(\u001b[0m\u001b[0mx\u001b[0m\u001b[1;33m,\u001b[0m\u001b[0my\u001b[0m\u001b[1;33m)\u001b[0m\u001b[1;33m)\u001b[0m\u001b[1;33m\u001b[0m\u001b[0m\n",
      "\u001b[1;31mValueError\u001b[0m: could not convert string to float: 'abc'"
     ]
    }
   ],
   "source": [
    "import math\n",
    "\n",
    "while True:\n",
    "    text = input(\"请输入：\")\n",
    "    if text[0] == \"q\":\n",
    "        break\n",
    "    x = float(text)\n",
    "    y = 1 / math.log10(x)\n",
    "    print(\"log10({0}) = {1}\".format(x,y))\n",
    "#程序被迫终止"
   ]
  },
  {
   "cell_type": "code",
   "execution_count": 33,
   "metadata": {
    "scrolled": false
   },
   "outputs": [
    {
     "name": "stdout",
     "output_type": "stream",
     "text": [
      "请输入：w\n",
      "输入不正确!\n",
      "Everything is OK~\n",
      "请输入：0\n",
      "输入不正确!\n",
      "Everything is OK~\n",
      "请输入：-1\n",
      "输入不正确!\n",
      "Everything is OK~\n",
      "请输入：5\n",
      "1/log10(5.0) = 1.430676558073393\n",
      "Everything is OK~\n",
      "请输入：q\n",
      "Everything is OK~\n"
     ]
    }
   ],
   "source": [
    "#在遇到异常情况时，python一般会停止程序运行并报错，但是有时候我们并不想这么做\n",
    "#尝试使用try和except的组合进行操作\n",
    "import math\n",
    "\n",
    "while True:\n",
    "    try:\n",
    "        text = input(\"请输入：\")\n",
    "        if text[0] == \"q\":\n",
    "            break\n",
    "        x = float(text)\n",
    "        y = 1 / math.log10(x)\n",
    "        print(\"1/log10({0}) = {1}\".format(x, y))\n",
    "    except Exception as e:\n",
    "        print(\"输入不正确!\")\n",
    "    finally:\n",
    "        print(\"Everything is OK~\")\n"
   ]
  },
  {
   "cell_type": "markdown",
   "metadata": {},
   "source": [
    "## 2.警告（warning）"
   ]
  },
  {
   "cell_type": "code",
   "execution_count": 34,
   "metadata": {},
   "outputs": [
    {
     "name": "stderr",
     "output_type": "stream",
     "text": [
      "D:\\anaconda\\lib\\site-packages\\ipykernel_launcher.py:2: UserWarning: test\n",
      "  \n"
     ]
    }
   ],
   "source": [
    "import warnings\n",
    "warnings.warn(\"test\")"
   ]
  },
  {
   "cell_type": "markdown",
   "metadata": {},
   "source": [
    "# 五、文件读写"
   ]
  },
  {
   "cell_type": "markdown",
   "metadata": {},
   "source": [
    "## 1.读文件"
   ]
  },
  {
   "cell_type": "markdown",
   "metadata": {},
   "source": [
    "### 1.一起简单读入（只读模式）"
   ]
  },
  {
   "cell_type": "code",
   "execution_count": 4,
   "metadata": {},
   "outputs": [
    {
     "data": {
      "text/plain": [
       "\"数据说明：\\n\\n1、数据来源：在文献数据库网站“web of science”爬取论文数据。分别为《ANNALS OF STATISTICS》《JOURNAL OF THE AMERICAN STATISTICAL ASSOCIATION》\\n《JOURNAL OF THE ROYAL STATISTICAL SOCIETY SERIES B-STATISTICAL METHODOLOGY》《BIOMETRIKA》\\n  4本杂志在2018年中刊登的所有论文数据。\\n\\n2、数据组成：共1个csv文件 data.csv（包含393篇文献）\\n\\n3、数据字段：论文名title\\n             出版物名称publisher\\n             引用其他文献数citation\\n             摘要abstract（部分文献由于网站没有相关摘要，所以并未抓取到，用no abstract代替）\\n             关键词keywords（部分文献由于网站没有其相关关键词，未抓取到）\\n             作者加研究机构author_university（“作者@机构1@机构2....”的形式（部分作者属于多个机构），作者与作者之间用'::'分割）\\n\\n\\n\\n\\n\\n\\n                     \""
      ]
     },
     "execution_count": 4,
     "metadata": {},
     "output_type": "execute_result"
    }
   ],
   "source": [
    "f = open(\"readme.txt\")\n",
    "f.read() #读取文件"
   ]
  },
  {
   "cell_type": "code",
   "execution_count": 22,
   "metadata": {},
   "outputs": [
    {
     "data": {
      "text/plain": [
       "<_io.TextIOWrapper name='readme.txt' mode='r' encoding='cp936'>"
      ]
     },
     "execution_count": 22,
     "metadata": {},
     "output_type": "execute_result"
    }
   ],
   "source": [
    "f.close() #读取完之后关闭文件,下次使用需要再次open文件\n",
    "f  # \"r\"代表只读模式"
   ]
  },
  {
   "cell_type": "markdown",
   "metadata": {},
   "source": [
    "### 2.按行读入"
   ]
  },
  {
   "cell_type": "code",
   "execution_count": 12,
   "metadata": {},
   "outputs": [
    {
     "data": {
      "text/plain": [
       "['数据说明：\\n',\n",
       " '\\n',\n",
       " '1、数据来源：在文献数据库网站“web of science”爬取论文数据。分别为《ANNALS OF STATISTICS》《JOURNAL OF THE AMERICAN STATISTICAL ASSOCIATION》\\n',\n",
       " '《JOURNAL OF THE ROYAL STATISTICAL SOCIETY SERIES B-STATISTICAL METHODOLOGY》《BIOMETRIKA》\\n',\n",
       " '  4本杂志在2018年中刊登的所有论文数据。\\n',\n",
       " '\\n',\n",
       " '2、数据组成：共1个csv文件 data.csv（包含393篇文献）\\n',\n",
       " '\\n',\n",
       " '3、数据字段：论文名title\\n',\n",
       " '             出版物名称publisher\\n',\n",
       " '             引用其他文献数citation\\n',\n",
       " '             摘要abstract（部分文献由于网站没有相关摘要，所以并未抓取到，用no abstract代替）\\n',\n",
       " '             关键词keywords（部分文献由于网站没有其相关关键词，未抓取到）\\n',\n",
       " \"             作者加研究机构author_university（“作者@机构1@机构2....”的形式（部分作者属于多个机构），作者与作者之间用'::'分割）\\n\",\n",
       " '\\n',\n",
       " '\\n',\n",
       " '\\n',\n",
       " '\\n',\n",
       " '\\n',\n",
       " '\\n',\n",
       " '                     ']"
      ]
     },
     "execution_count": 12,
     "metadata": {},
     "output_type": "execute_result"
    }
   ],
   "source": [
    "f = open(\"readme.txt\")\n",
    "f.readlines()  #按行读取文件"
   ]
  },
  {
   "cell_type": "code",
   "execution_count": 13,
   "metadata": {},
   "outputs": [],
   "source": [
    "f.close()"
   ]
  },
  {
   "cell_type": "markdown",
   "metadata": {},
   "source": [
    "### 3.读取第一行"
   ]
  },
  {
   "cell_type": "code",
   "execution_count": 17,
   "metadata": {},
   "outputs": [
    {
     "data": {
      "text/plain": [
       "'数据说明：\\n'"
      ]
     },
     "execution_count": 17,
     "metadata": {},
     "output_type": "execute_result"
    }
   ],
   "source": [
    "f = open(\"readme.txt\")\n",
    "f.readline()  #单数形式的readline只读取第一行"
   ]
  },
  {
   "cell_type": "code",
   "execution_count": 18,
   "metadata": {},
   "outputs": [
    {
     "data": {
      "text/plain": [
       "['\\n',\n",
       " '1、数据来源：在文献数据库网站“web of science”爬取论文数据。分别为《ANNALS OF STATISTICS》《JOURNAL OF THE AMERICAN STATISTICAL ASSOCIATION》\\n',\n",
       " '《JOURNAL OF THE ROYAL STATISTICAL SOCIETY SERIES B-STATISTICAL METHODOLOGY》《BIOMETRIKA》\\n',\n",
       " '  4本杂志在2018年中刊登的所有论文数据。\\n',\n",
       " '\\n',\n",
       " '2、数据组成：共1个csv文件 data.csv（包含393篇文献）\\n',\n",
       " '\\n',\n",
       " '3、数据字段：论文名title\\n',\n",
       " '             出版物名称publisher\\n',\n",
       " '             引用其他文献数citation\\n',\n",
       " '             摘要abstract（部分文献由于网站没有相关摘要，所以并未抓取到，用no abstract代替）\\n',\n",
       " '             关键词keywords（部分文献由于网站没有其相关关键词，未抓取到）\\n',\n",
       " \"             作者加研究机构author_university（“作者@机构1@机构2....”的形式（部分作者属于多个机构），作者与作者之间用'::'分割）\\n\",\n",
       " '\\n',\n",
       " '\\n',\n",
       " '\\n',\n",
       " '\\n',\n",
       " '\\n',\n",
       " '\\n',\n",
       " '                     ']"
      ]
     },
     "execution_count": 18,
     "metadata": {},
     "output_type": "execute_result"
    }
   ],
   "source": [
    "f.readlines()  #第一行之后的其他内容"
   ]
  },
  {
   "cell_type": "code",
   "execution_count": 19,
   "metadata": {},
   "outputs": [],
   "source": [
    "f.close()"
   ]
  },
  {
   "cell_type": "markdown",
   "metadata": {},
   "source": [
    "### 4.利用循环按行读取文件"
   ]
  },
  {
   "cell_type": "code",
   "execution_count": 21,
   "metadata": {},
   "outputs": [
    {
     "name": "stdout",
     "output_type": "stream",
     "text": [
      "数据说明：\n",
      "\n",
      "\n",
      "\n",
      "1、数据来源：在文献数据库网站“web of science”爬取论文数据。分别为《ANNALS OF STATISTICS》《JOURNAL OF THE AMERICAN STATISTICAL ASSOCIATION》\n",
      "\n",
      "《JOURNAL OF THE ROYAL STATISTICAL SOCIETY SERIES B-STATISTICAL METHODOLOGY》《BIOMETRIKA》\n",
      "\n",
      "  4本杂志在2018年中刊登的所有论文数据。\n",
      "\n",
      "\n",
      "\n",
      "2、数据组成：共1个csv文件 data.csv（包含393篇文献）\n",
      "\n",
      "\n",
      "\n",
      "3、数据字段：论文名title\n",
      "\n",
      "             出版物名称publisher\n",
      "\n",
      "             引用其他文献数citation\n",
      "\n",
      "             摘要abstract（部分文献由于网站没有相关摘要，所以并未抓取到，用no abstract代替）\n",
      "\n",
      "             关键词keywords（部分文献由于网站没有其相关关键词，未抓取到）\n",
      "\n",
      "             作者加研究机构author_university（“作者@机构1@机构2....”的形式（部分作者属于多个机构），作者与作者之间用'::'分割）\n",
      "\n",
      "\n",
      "\n",
      "\n",
      "\n",
      "\n",
      "\n",
      "\n",
      "\n",
      "\n",
      "\n",
      "\n",
      "\n",
      "                     \n"
     ]
    }
   ],
   "source": [
    "f = open(\"readme.txt\")\n",
    "for line in f:\n",
    "    print(line)\n",
    "#通过循环按行进行读取"
   ]
  },
  {
   "cell_type": "markdown",
   "metadata": {},
   "source": [
    "## 2.写文件"
   ]
  },
  {
   "cell_type": "markdown",
   "metadata": {},
   "source": [
    "### 1.只写模式，会覆盖文档中的内容"
   ]
  },
  {
   "cell_type": "code",
   "execution_count": 23,
   "metadata": {},
   "outputs": [],
   "source": [
    "f = open(\"test.txt\", \"w\")\n",
    "f.write(\"Hello World~\")\n",
    "f.close()  #写文件的基本方法一"
   ]
  },
  {
   "cell_type": "code",
   "execution_count": 24,
   "metadata": {},
   "outputs": [
    {
     "data": {
      "text/plain": [
       "'Hello World~'"
      ]
     },
     "execution_count": 24,
     "metadata": {},
     "output_type": "execute_result"
    }
   ],
   "source": [
    "open(\"test.txt\").read()"
   ]
  },
  {
   "cell_type": "markdown",
   "metadata": {},
   "source": [
    "### 2.追加模式"
   ]
  },
  {
   "cell_type": "code",
   "execution_count": 26,
   "metadata": {},
   "outputs": [],
   "source": [
    "f = open(\"test.txt\", \"a\")\n",
    "f.write(\"Shit happens,but life goes on and on~\")\n",
    "f.close()"
   ]
  },
  {
   "cell_type": "code",
   "execution_count": 1,
   "metadata": {},
   "outputs": [],
   "source": [
    "###读写文件在操作完成后，一定要关闭文件"
   ]
  },
  {
   "cell_type": "markdown",
   "metadata": {},
   "source": [
    "## 3.中文文件的读写"
   ]
  },
  {
   "cell_type": "code",
   "execution_count": 13,
   "metadata": {},
   "outputs": [
    {
     "name": "stdout",
     "output_type": "stream",
     "text": [
      "b'\\xe4\\xb8\\xad\\xe6\\x96\\x87' 6 <class 'bytes'>\n"
     ]
    }
   ],
   "source": [
    "b = u\"中文\"\n",
    "data = b.encode(\"utf-8\")\n",
    "print(data, len(data), type(data))  #把unicode编码转化为utf-8写文件"
   ]
  },
  {
   "cell_type": "code",
   "execution_count": 20,
   "metadata": {},
   "outputs": [],
   "source": [
    "f = open(\"tmp.txt\", \"w\")\n",
    "f.write(b)\n",
    "open(\"tmp.txt\").read()\n",
    "f.close()"
   ]
  },
  {
   "cell_type": "code",
   "execution_count": 21,
   "metadata": {},
   "outputs": [],
   "source": [
    "#codecs模块可以比较方便的读写不同格式的字符串\n",
    "import codecs\n",
    "f = codecs.open(\"tmp.txt\", \"a\", encoding=\"utf8\")\n",
    "f.write(b)\n",
    "f.close()"
   ]
  },
  {
   "cell_type": "code",
   "execution_count": 24,
   "metadata": {},
   "outputs": [
    {
     "ename": "UnicodeDecodeError",
     "evalue": "'gbk' codec can't decode byte 0xad in position 6: illegal multibyte sequence",
     "output_type": "error",
     "traceback": [
      "\u001b[1;31m---------------------------------------------------------------------------\u001b[0m",
      "\u001b[1;31mUnicodeDecodeError\u001b[0m                        Traceback (most recent call last)",
      "\u001b[1;32m<ipython-input-24-fd89e42f55eb>\u001b[0m in \u001b[0;36m<module>\u001b[1;34m()\u001b[0m\n\u001b[0;32m      1\u001b[0m \u001b[0mf\u001b[0m \u001b[1;33m=\u001b[0m \u001b[0mopen\u001b[0m\u001b[1;33m(\u001b[0m\u001b[1;34m\"tmp.txt\"\u001b[0m\u001b[1;33m)\u001b[0m\u001b[1;33m\u001b[0m\u001b[0m\n\u001b[1;32m----> 2\u001b[1;33m \u001b[0mf\u001b[0m\u001b[1;33m.\u001b[0m\u001b[0mreadline\u001b[0m\u001b[1;33m(\u001b[0m\u001b[1;33m)\u001b[0m\u001b[1;33m\u001b[0m\u001b[0m\n\u001b[0m",
      "\u001b[1;31mUnicodeDecodeError\u001b[0m: 'gbk' codec can't decode byte 0xad in position 6: illegal multibyte sequence"
     ]
    }
   ],
   "source": [
    "f = open(\"tmp.txt\")\n",
    "f.readline()"
   ]
  },
  {
   "cell_type": "code",
   "execution_count": 25,
   "metadata": {},
   "outputs": [
    {
     "ename": "UnicodeDecodeError",
     "evalue": "'utf-8' codec can't decode byte 0xd6 in position 0: invalid continuation byte",
     "output_type": "error",
     "traceback": [
      "\u001b[1;31m---------------------------------------------------------------------------\u001b[0m",
      "\u001b[1;31mUnicodeDecodeError\u001b[0m                        Traceback (most recent call last)",
      "\u001b[1;32m<ipython-input-25-3159bd4fbfb3>\u001b[0m in \u001b[0;36m<module>\u001b[1;34m()\u001b[0m\n\u001b[0;32m      1\u001b[0m \u001b[0mf\u001b[0m \u001b[1;33m=\u001b[0m \u001b[0mcodecs\u001b[0m\u001b[1;33m.\u001b[0m\u001b[0mopen\u001b[0m\u001b[1;33m(\u001b[0m\u001b[1;34m\"tmp.txt\"\u001b[0m\u001b[1;33m,\u001b[0m \u001b[0mencoding\u001b[0m\u001b[1;33m=\u001b[0m\u001b[1;34m\"utf8\"\u001b[0m\u001b[1;33m)\u001b[0m\u001b[1;33m\u001b[0m\u001b[0m\n\u001b[1;32m----> 2\u001b[1;33m \u001b[0mdata\u001b[0m \u001b[1;33m=\u001b[0m \u001b[0mf\u001b[0m\u001b[1;33m.\u001b[0m\u001b[0mread\u001b[0m\u001b[1;33m(\u001b[0m\u001b[1;33m)\u001b[0m\u001b[1;33m\u001b[0m\u001b[0m\n\u001b[0m\u001b[0;32m      3\u001b[0m \u001b[0mprint\u001b[0m\u001b[1;33m(\u001b[0m\u001b[0mdata\u001b[0m\u001b[1;33m)\u001b[0m\u001b[1;33m\u001b[0m\u001b[0m\n",
      "\u001b[1;32mD:\\anaconda\\lib\\codecs.py\u001b[0m in \u001b[0;36mread\u001b[1;34m(self, size)\u001b[0m\n\u001b[0;32m    698\u001b[0m     \u001b[1;32mdef\u001b[0m \u001b[0mread\u001b[0m\u001b[1;33m(\u001b[0m\u001b[0mself\u001b[0m\u001b[1;33m,\u001b[0m \u001b[0msize\u001b[0m\u001b[1;33m=\u001b[0m\u001b[1;33m-\u001b[0m\u001b[1;36m1\u001b[0m\u001b[1;33m)\u001b[0m\u001b[1;33m:\u001b[0m\u001b[1;33m\u001b[0m\u001b[0m\n\u001b[0;32m    699\u001b[0m \u001b[1;33m\u001b[0m\u001b[0m\n\u001b[1;32m--> 700\u001b[1;33m         \u001b[1;32mreturn\u001b[0m \u001b[0mself\u001b[0m\u001b[1;33m.\u001b[0m\u001b[0mreader\u001b[0m\u001b[1;33m.\u001b[0m\u001b[0mread\u001b[0m\u001b[1;33m(\u001b[0m\u001b[0msize\u001b[0m\u001b[1;33m)\u001b[0m\u001b[1;33m\u001b[0m\u001b[0m\n\u001b[0m\u001b[0;32m    701\u001b[0m \u001b[1;33m\u001b[0m\u001b[0m\n\u001b[0;32m    702\u001b[0m     \u001b[1;32mdef\u001b[0m \u001b[0mreadline\u001b[0m\u001b[1;33m(\u001b[0m\u001b[0mself\u001b[0m\u001b[1;33m,\u001b[0m \u001b[0msize\u001b[0m\u001b[1;33m=\u001b[0m\u001b[1;32mNone\u001b[0m\u001b[1;33m)\u001b[0m\u001b[1;33m:\u001b[0m\u001b[1;33m\u001b[0m\u001b[0m\n",
      "\u001b[1;32mD:\\anaconda\\lib\\codecs.py\u001b[0m in \u001b[0;36mread\u001b[1;34m(self, size, chars, firstline)\u001b[0m\n\u001b[0;32m    501\u001b[0m                 \u001b[1;32mbreak\u001b[0m\u001b[1;33m\u001b[0m\u001b[0m\n\u001b[0;32m    502\u001b[0m             \u001b[1;32mtry\u001b[0m\u001b[1;33m:\u001b[0m\u001b[1;33m\u001b[0m\u001b[0m\n\u001b[1;32m--> 503\u001b[1;33m                 \u001b[0mnewchars\u001b[0m\u001b[1;33m,\u001b[0m \u001b[0mdecodedbytes\u001b[0m \u001b[1;33m=\u001b[0m \u001b[0mself\u001b[0m\u001b[1;33m.\u001b[0m\u001b[0mdecode\u001b[0m\u001b[1;33m(\u001b[0m\u001b[0mdata\u001b[0m\u001b[1;33m,\u001b[0m \u001b[0mself\u001b[0m\u001b[1;33m.\u001b[0m\u001b[0merrors\u001b[0m\u001b[1;33m)\u001b[0m\u001b[1;33m\u001b[0m\u001b[0m\n\u001b[0m\u001b[0;32m    504\u001b[0m             \u001b[1;32mexcept\u001b[0m \u001b[0mUnicodeDecodeError\u001b[0m \u001b[1;32mas\u001b[0m \u001b[0mexc\u001b[0m\u001b[1;33m:\u001b[0m\u001b[1;33m\u001b[0m\u001b[0m\n\u001b[0;32m    505\u001b[0m                 \u001b[1;32mif\u001b[0m \u001b[0mfirstline\u001b[0m\u001b[1;33m:\u001b[0m\u001b[1;33m\u001b[0m\u001b[0m\n",
      "\u001b[1;31mUnicodeDecodeError\u001b[0m: 'utf-8' codec can't decode byte 0xd6 in position 0: invalid continuation byte"
     ]
    }
   ],
   "source": [
    "f = codecs.open(\"tmp.txt\", encoding=\"utf8\")\n",
    "data = f.read()\n",
    "print(data)"
   ]
  },
  {
   "cell_type": "markdown",
   "metadata": {},
   "source": [
    "## 六、内置函数"
   ]
  },
  {
   "cell_type": "code",
   "execution_count": 26,
   "metadata": {},
   "outputs": [
    {
     "data": {
      "text/plain": [
       "56"
      ]
     },
     "execution_count": 26,
     "metadata": {},
     "output_type": "execute_result"
    }
   ],
   "source": [
    "abs(-56)"
   ]
  },
  {
   "cell_type": "code",
   "execution_count": 1,
   "metadata": {},
   "outputs": [
    {
     "data": {
      "text/plain": [
       "'0b11'"
      ]
     },
     "execution_count": 1,
     "metadata": {},
     "output_type": "execute_result"
    }
   ],
   "source": [
    "bin(3)"
   ]
  },
  {
   "cell_type": "code",
   "execution_count": 2,
   "metadata": {},
   "outputs": [
    {
     "data": {
      "text/plain": [
       "'0o11'"
      ]
     },
     "execution_count": 2,
     "metadata": {},
     "output_type": "execute_result"
    }
   ],
   "source": [
    "oct(9)"
   ]
  },
  {
   "cell_type": "code",
   "execution_count": 3,
   "metadata": {},
   "outputs": [
    {
     "data": {
      "text/plain": [
       "'0x11'"
      ]
     },
     "execution_count": 3,
     "metadata": {},
     "output_type": "execute_result"
    }
   ],
   "source": [
    "hex(17)  #进制数之间的转化"
   ]
  },
  {
   "cell_type": "code",
   "execution_count": 4,
   "metadata": {
    "scrolled": true
   },
   "outputs": [
    {
     "data": {
      "text/plain": [
       "(2, 3)"
      ]
     },
     "execution_count": 4,
     "metadata": {},
     "output_type": "execute_result"
    }
   ],
   "source": [
    "divmod(15, 6)  #返回商余数"
   ]
  },
  {
   "cell_type": "code",
   "execution_count": 5,
   "metadata": {},
   "outputs": [
    {
     "data": {
      "text/plain": [
       "(8.0, 0.10000000000000009)"
      ]
     },
     "execution_count": 5,
     "metadata": {},
     "output_type": "execute_result"
    }
   ],
   "source": [
    "divmod(2.5, 0.3)  #浮点数可能会存在精度问题"
   ]
  },
  {
   "cell_type": "code",
   "execution_count": 9,
   "metadata": {},
   "outputs": [
    {
     "data": {
      "text/plain": [
       "0"
      ]
     },
     "execution_count": 9,
     "metadata": {},
     "output_type": "execute_result"
    }
   ],
   "source": [
    "pow(2, 6, 2)"
   ]
  },
  {
   "cell_type": "code",
   "execution_count": 10,
   "metadata": {
    "scrolled": false
   },
   "outputs": [
    {
     "data": {
      "text/plain": [
       "5.68"
      ]
     },
     "execution_count": 10,
     "metadata": {},
     "output_type": "execute_result"
    }
   ],
   "source": [
    "round(5.67899,2)  #近似数求法"
   ]
  },
  {
   "cell_type": "code",
   "execution_count": 12,
   "metadata": {},
   "outputs": [
    {
     "data": {
      "text/plain": [
       "False"
      ]
     },
     "execution_count": 12,
     "metadata": {},
     "output_type": "execute_result"
    }
   ],
   "source": [
    "all([\"aaa\", [5, 6, 7],[]])"
   ]
  },
  {
   "cell_type": "code",
   "execution_count": 1,
   "metadata": {},
   "outputs": [
    {
     "data": {
      "text/plain": [
       "True"
      ]
     },
     "execution_count": 1,
     "metadata": {},
     "output_type": "execute_result"
    }
   ],
   "source": [
    "a = [5, 6, 7]\n",
    "isinstance(a, list)"
   ]
  },
  {
   "cell_type": "code",
   "execution_count": null,
   "metadata": {},
   "outputs": [],
   "source": []
  }
 ],
 "metadata": {
  "kernelspec": {
   "display_name": "Python 3",
   "language": "python",
   "name": "python3"
  },
  "language_info": {
   "codemirror_mode": {
    "name": "ipython",
    "version": 3
   },
   "file_extension": ".py",
   "mimetype": "text/x-python",
   "name": "python",
   "nbconvert_exporter": "python",
   "pygments_lexer": "ipython3",
   "version": "3.6.5"
  }
 },
 "nbformat": 4,
 "nbformat_minor": 2
}
